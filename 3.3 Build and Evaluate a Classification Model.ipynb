{
 "cells": [
  {
   "cell_type": "markdown",
   "metadata": {},
   "source": [
    "# Build and Evaluate a Classification Model\n",
    "\n",
    "In this notebook we will build classification models using the decision trees and logistic regression algorithms and choose the best one.\n"
   ]
  },
  {
   "cell_type": "markdown",
   "metadata": {},
   "source": [
    "## Import the libraries we need\n"
   ]
  },
  {
   "cell_type": "code",
   "execution_count": 1,
   "metadata": {},
   "outputs": [],
   "source": [
    "# Core libraries\n",
    "import pandas as pd\n",
    "import numpy as np\n",
    "import matplotlib.pyplot as pyplot\n",
    "\n",
    "# Sklearn functionality\n",
    "from sklearn.preprocessing import MinMaxScaler\n",
    "from sklearn.model_selection import train_test_split\n",
    "from sklearn.tree import DecisionTreeClassifier\n",
    "from sklearn.linear_model import LogisticRegression\n",
    "\n",
    "from sklearn.metrics import accuracy_score\n",
    "\n",
    "# Convenience functions.  This can be found on the course github\n",
    "from functions import *"
   ]
  },
  {
   "cell_type": "markdown",
   "metadata": {},
   "source": [
    "# Define the task\n",
    "\"Make predictions about a country's life expectancy (L/M/H bands) from a set of metrics for the country.\""
   ]
  },
  {
   "cell_type": "markdown",
   "metadata": {},
   "source": [
    "# Acquire clean data\n",
    "## Load the data\n",
    "We will load our data."
   ]
  },
  {
   "cell_type": "code",
   "execution_count": 2,
   "metadata": {},
   "outputs": [],
   "source": [
    "# Load the data set\n",
    "dataset = pd.read_csv(\"world_data.csv\")"
   ]
  },
  {
   "cell_type": "markdown",
   "metadata": {},
   "source": [
    "## Inspect the data"
   ]
  },
  {
   "cell_type": "markdown",
   "metadata": {},
   "source": [
    "Identify the number of features (columns) and samples (rows)"
   ]
  },
  {
   "cell_type": "code",
   "execution_count": 3,
   "metadata": {},
   "outputs": [
    {
     "data": {
      "text/plain": [
       "(194, 17)"
      ]
     },
     "execution_count": 3,
     "metadata": {},
     "output_type": "execute_result"
    }
   ],
   "source": [
    "# Examine the date shape\n",
    "dataset.shape"
   ]
  },
  {
   "cell_type": "markdown",
   "metadata": {},
   "source": [
    "Take a quick look at the data to understand what you are dealing with."
   ]
  },
  {
   "cell_type": "code",
   "execution_count": 4,
   "metadata": {},
   "outputs": [
    {
     "data": {
      "text/html": [
       "<div>\n",
       "<style scoped>\n",
       "    .dataframe tbody tr th:only-of-type {\n",
       "        vertical-align: middle;\n",
       "    }\n",
       "\n",
       "    .dataframe tbody tr th {\n",
       "        vertical-align: top;\n",
       "    }\n",
       "\n",
       "    .dataframe thead th {\n",
       "        text-align: right;\n",
       "    }\n",
       "</style>\n",
       "<table border=\"1\" class=\"dataframe\">\n",
       "  <thead>\n",
       "    <tr style=\"text-align: right;\">\n",
       "      <th></th>\n",
       "      <th>country</th>\n",
       "      <th>happiness</th>\n",
       "      <th>income</th>\n",
       "      <th>lifeexp</th>\n",
       "      <th>sanitation</th>\n",
       "      <th>water</th>\n",
       "      <th>urbanpopulation</th>\n",
       "      <th>unemployment</th>\n",
       "      <th>literacy</th>\n",
       "      <th>inequality</th>\n",
       "      <th>murder</th>\n",
       "      <th>energy</th>\n",
       "      <th>childmortality</th>\n",
       "      <th>fertility</th>\n",
       "      <th>hiv</th>\n",
       "      <th>foodsupply</th>\n",
       "      <th>population</th>\n",
       "    </tr>\n",
       "  </thead>\n",
       "  <tbody>\n",
       "    <tr>\n",
       "      <th>0</th>\n",
       "      <td>Afghanistan</td>\n",
       "      <td>3.982855</td>\n",
       "      <td>1750.0</td>\n",
       "      <td>57.9</td>\n",
       "      <td>39.2</td>\n",
       "      <td>63.0</td>\n",
       "      <td>11.0</td>\n",
       "      <td>NaN</td>\n",
       "      <td>39.0</td>\n",
       "      <td>NaN</td>\n",
       "      <td>NaN</td>\n",
       "      <td>NaN</td>\n",
       "      <td>73.2</td>\n",
       "      <td>4.80</td>\n",
       "      <td>5800.0</td>\n",
       "      <td>2090.0</td>\n",
       "      <td>33700000</td>\n",
       "    </tr>\n",
       "    <tr>\n",
       "      <th>1</th>\n",
       "      <td>Albania</td>\n",
       "      <td>4.606651</td>\n",
       "      <td>11000.0</td>\n",
       "      <td>77.6</td>\n",
       "      <td>97.7</td>\n",
       "      <td>91.4</td>\n",
       "      <td>NaN</td>\n",
       "      <td>6.090</td>\n",
       "      <td>96.8</td>\n",
       "      <td>29.0</td>\n",
       "      <td>2.30</td>\n",
       "      <td>808.0</td>\n",
       "      <td>14.0</td>\n",
       "      <td>1.71</td>\n",
       "      <td>NaN</td>\n",
       "      <td>3190.0</td>\n",
       "      <td>2920000</td>\n",
       "    </tr>\n",
       "    <tr>\n",
       "      <th>2</th>\n",
       "      <td>Argentina</td>\n",
       "      <td>6.697131</td>\n",
       "      <td>19100.0</td>\n",
       "      <td>76.5</td>\n",
       "      <td>94.8</td>\n",
       "      <td>99.6</td>\n",
       "      <td>43.1</td>\n",
       "      <td>0.856</td>\n",
       "      <td>97.9</td>\n",
       "      <td>41.4</td>\n",
       "      <td>4.65</td>\n",
       "      <td>2020.0</td>\n",
       "      <td>11.6</td>\n",
       "      <td>2.31</td>\n",
       "      <td>95000.0</td>\n",
       "      <td>3230.0</td>\n",
       "      <td>43400000</td>\n",
       "    </tr>\n",
       "    <tr>\n",
       "      <th>3</th>\n",
       "      <td>Armenia</td>\n",
       "      <td>4.348320</td>\n",
       "      <td>8180.0</td>\n",
       "      <td>75.4</td>\n",
       "      <td>91.6</td>\n",
       "      <td>98.9</td>\n",
       "      <td>36.7</td>\n",
       "      <td>7.110</td>\n",
       "      <td>99.6</td>\n",
       "      <td>32.4</td>\n",
       "      <td>1.12</td>\n",
       "      <td>1020.0</td>\n",
       "      <td>14.0</td>\n",
       "      <td>1.66</td>\n",
       "      <td>3600.0</td>\n",
       "      <td>2930.0</td>\n",
       "      <td>2920000</td>\n",
       "    </tr>\n",
       "    <tr>\n",
       "      <th>4</th>\n",
       "      <td>Australia</td>\n",
       "      <td>7.309061</td>\n",
       "      <td>43800.0</td>\n",
       "      <td>82.6</td>\n",
       "      <td>100.0</td>\n",
       "      <td>100.0</td>\n",
       "      <td>60.2</td>\n",
       "      <td>1.240</td>\n",
       "      <td>NaN</td>\n",
       "      <td>34.7</td>\n",
       "      <td>1.11</td>\n",
       "      <td>5480.0</td>\n",
       "      <td>3.8</td>\n",
       "      <td>1.86</td>\n",
       "      <td>22000.0</td>\n",
       "      <td>3280.0</td>\n",
       "      <td>23800000</td>\n",
       "    </tr>\n",
       "  </tbody>\n",
       "</table>\n",
       "</div>"
      ],
      "text/plain": [
       "       country  happiness   income  lifeexp  sanitation  water  \\\n",
       "0  Afghanistan   3.982855   1750.0     57.9        39.2   63.0   \n",
       "1      Albania   4.606651  11000.0     77.6        97.7   91.4   \n",
       "2    Argentina   6.697131  19100.0     76.5        94.8   99.6   \n",
       "3      Armenia   4.348320   8180.0     75.4        91.6   98.9   \n",
       "4    Australia   7.309061  43800.0     82.6       100.0  100.0   \n",
       "\n",
       "   urbanpopulation  unemployment  literacy  inequality  murder  energy  \\\n",
       "0             11.0           NaN      39.0         NaN     NaN     NaN   \n",
       "1              NaN         6.090      96.8        29.0    2.30   808.0   \n",
       "2             43.1         0.856      97.9        41.4    4.65  2020.0   \n",
       "3             36.7         7.110      99.6        32.4    1.12  1020.0   \n",
       "4             60.2         1.240       NaN        34.7    1.11  5480.0   \n",
       "\n",
       "   childmortality  fertility      hiv  foodsupply  population  \n",
       "0            73.2       4.80   5800.0      2090.0    33700000  \n",
       "1            14.0       1.71      NaN      3190.0     2920000  \n",
       "2            11.6       2.31  95000.0      3230.0    43400000  \n",
       "3            14.0       1.66   3600.0      2930.0     2920000  \n",
       "4             3.8       1.86  22000.0      3280.0    23800000  "
      ]
     },
     "execution_count": 4,
     "metadata": {},
     "output_type": "execute_result"
    }
   ],
   "source": [
    "# Inspect first few rows\n",
    "dataset.head()"
   ]
  },
  {
   "cell_type": "markdown",
   "metadata": {},
   "source": [
    "Check we have sensible data types for each feature.  E.g. we don't want any numeric features to be showing as object type."
   ]
  },
  {
   "cell_type": "code",
   "execution_count": 5,
   "metadata": {},
   "outputs": [
    {
     "data": {
      "text/plain": [
       "country             object\n",
       "happiness          float64\n",
       "income             float64\n",
       "lifeexp            float64\n",
       "sanitation         float64\n",
       "water              float64\n",
       "urbanpopulation    float64\n",
       "unemployment       float64\n",
       "literacy           float64\n",
       "inequality         float64\n",
       "murder             float64\n",
       "energy             float64\n",
       "childmortality     float64\n",
       "fertility          float64\n",
       "hiv                float64\n",
       "foodsupply         float64\n",
       "population           int64\n",
       "dtype: object"
      ]
     },
     "execution_count": 5,
     "metadata": {},
     "output_type": "execute_result"
    }
   ],
   "source": [
    "# Check data types\n",
    "dataset.dtypes"
   ]
  },
  {
   "cell_type": "markdown",
   "metadata": {},
   "source": [
    "Check if there are nulls"
   ]
  },
  {
   "cell_type": "code",
   "execution_count": 6,
   "metadata": {},
   "outputs": [
    {
     "data": {
      "text/plain": [
       "country            0.000000\n",
       "water              0.000000\n",
       "sanitation         0.000000\n",
       "population         0.000000\n",
       "income             0.005155\n",
       "childmortality     0.005155\n",
       "lifeexp            0.036082\n",
       "fertility          0.051546\n",
       "energy             0.128866\n",
       "foodsupply         0.134021\n",
       "inequality         0.175258\n",
       "hiv                0.231959\n",
       "literacy           0.231959\n",
       "happiness          0.278351\n",
       "urbanpopulation    0.386598\n",
       "unemployment       0.422680\n",
       "murder             0.520619\n",
       "dtype: float64"
      ]
     },
     "execution_count": 6,
     "metadata": {},
     "output_type": "execute_result"
    }
   ],
   "source": [
    "# Check for nulls\n",
    "dataset.isnull().mean().sort_values()"
   ]
  },
  {
   "cell_type": "markdown",
   "metadata": {},
   "source": [
    "## Clean data\n",
    "Some of these features (murder, urbanpopulation, unemployment) are very sparsely populated.  If we were to impute the nulls, we would be estimating a large number of values.  I am going to discard them for now.  I may come back to these again later (remember, this is an iterative process)."
   ]
  },
  {
   "cell_type": "code",
   "execution_count": 7,
   "metadata": {},
   "outputs": [],
   "source": [
    "# Discard very sparse features\n",
    "dataset = dataset.drop([\"murder\",\"urbanpopulation\",\"unemployment\"], axis=1)"
   ]
  },
  {
   "cell_type": "markdown",
   "metadata": {},
   "source": [
    "For the others I will just impute with the mean value of the feature.  Again, I may want to come back to this later."
   ]
  },
  {
   "cell_type": "code",
   "execution_count": 8,
   "metadata": {},
   "outputs": [],
   "source": [
    "# Compute the mean for each feature\n",
    "means = dataset.mean().to_dict()\n",
    "\n",
    "# Impute each null with the mean of that feature\n",
    "for m in means:\n",
    "    dataset[m] = dataset[m].fillna(value=means[m])"
   ]
  },
  {
   "cell_type": "markdown",
   "metadata": {},
   "source": [
    "Have a think about our cleanup strategy here.  Could you take a more sophisticated approach?"
   ]
  },
  {
   "cell_type": "markdown",
   "metadata": {},
   "source": [
    "Confirm we have no nulls now:"
   ]
  },
  {
   "cell_type": "code",
   "execution_count": 9,
   "metadata": {},
   "outputs": [
    {
     "data": {
      "text/plain": [
       "country           0.0\n",
       "happiness         0.0\n",
       "income            0.0\n",
       "lifeexp           0.0\n",
       "sanitation        0.0\n",
       "water             0.0\n",
       "literacy          0.0\n",
       "inequality        0.0\n",
       "energy            0.0\n",
       "childmortality    0.0\n",
       "fertility         0.0\n",
       "hiv               0.0\n",
       "foodsupply        0.0\n",
       "population        0.0\n",
       "dtype: float64"
      ]
     },
     "execution_count": 9,
     "metadata": {},
     "output_type": "execute_result"
    }
   ],
   "source": [
    "# Check for nulls\n",
    "dataset.isnull().mean()"
   ]
  },
  {
   "cell_type": "markdown",
   "metadata": {},
   "source": [
    "## Understand the data\n",
    "\n",
    "### Compute descriptive stats\n",
    "Descriptive stats give an idea of the range and spread of values for each feature and allows us to spot and unexpected patterns. "
   ]
  },
  {
   "cell_type": "code",
   "execution_count": 10,
   "metadata": {
    "scrolled": false
   },
   "outputs": [
    {
     "data": {
      "text/html": [
       "<div>\n",
       "<style scoped>\n",
       "    .dataframe tbody tr th:only-of-type {\n",
       "        vertical-align: middle;\n",
       "    }\n",
       "\n",
       "    .dataframe tbody tr th {\n",
       "        vertical-align: top;\n",
       "    }\n",
       "\n",
       "    .dataframe thead th {\n",
       "        text-align: right;\n",
       "    }\n",
       "</style>\n",
       "<table border=\"1\" class=\"dataframe\">\n",
       "  <thead>\n",
       "    <tr style=\"text-align: right;\">\n",
       "      <th></th>\n",
       "      <th>happiness</th>\n",
       "      <th>income</th>\n",
       "      <th>lifeexp</th>\n",
       "      <th>sanitation</th>\n",
       "      <th>water</th>\n",
       "      <th>literacy</th>\n",
       "      <th>inequality</th>\n",
       "      <th>energy</th>\n",
       "      <th>childmortality</th>\n",
       "      <th>fertility</th>\n",
       "      <th>hiv</th>\n",
       "      <th>foodsupply</th>\n",
       "      <th>population</th>\n",
       "    </tr>\n",
       "  </thead>\n",
       "  <tbody>\n",
       "    <tr>\n",
       "      <th>count</th>\n",
       "      <td>194.000000</td>\n",
       "      <td>194.000000</td>\n",
       "      <td>194.000000</td>\n",
       "      <td>194.000000</td>\n",
       "      <td>194.000000</td>\n",
       "      <td>194.000000</td>\n",
       "      <td>194.000000</td>\n",
       "      <td>194.000000</td>\n",
       "      <td>194.000000</td>\n",
       "      <td>194.000000</td>\n",
       "      <td>1.940000e+02</td>\n",
       "      <td>194.000000</td>\n",
       "      <td>1.940000e+02</td>\n",
       "    </tr>\n",
       "    <tr>\n",
       "      <th>mean</th>\n",
       "      <td>5.395765</td>\n",
       "      <td>17432.849741</td>\n",
       "      <td>71.933690</td>\n",
       "      <td>73.838247</td>\n",
       "      <td>86.329381</td>\n",
       "      <td>81.573826</td>\n",
       "      <td>38.579375</td>\n",
       "      <td>2183.725325</td>\n",
       "      <td>31.441451</td>\n",
       "      <td>2.835924</td>\n",
       "      <td>2.179917e+05</td>\n",
       "      <td>2845.952381</td>\n",
       "      <td>3.787195e+07</td>\n",
       "    </tr>\n",
       "    <tr>\n",
       "      <th>std</th>\n",
       "      <td>0.953547</td>\n",
       "      <td>19072.580021</td>\n",
       "      <td>7.466359</td>\n",
       "      <td>29.269367</td>\n",
       "      <td>17.568245</td>\n",
       "      <td>17.055722</td>\n",
       "      <td>7.257464</td>\n",
       "      <td>2618.536430</td>\n",
       "      <td>31.237992</td>\n",
       "      <td>1.336162</td>\n",
       "      <td>5.521169e+05</td>\n",
       "      <td>413.199619</td>\n",
       "      <td>1.419670e+08</td>\n",
       "    </tr>\n",
       "    <tr>\n",
       "      <th>min</th>\n",
       "      <td>2.701591</td>\n",
       "      <td>623.000000</td>\n",
       "      <td>49.600000</td>\n",
       "      <td>7.080000</td>\n",
       "      <td>19.300000</td>\n",
       "      <td>25.300000</td>\n",
       "      <td>16.600000</td>\n",
       "      <td>9.580000</td>\n",
       "      <td>2.200000</td>\n",
       "      <td>1.240000</td>\n",
       "      <td>6.000000e+01</td>\n",
       "      <td>1880.000000</td>\n",
       "      <td>1.100000e+04</td>\n",
       "    </tr>\n",
       "    <tr>\n",
       "      <th>25%</th>\n",
       "      <td>4.891838</td>\n",
       "      <td>3297.500000</td>\n",
       "      <td>66.425000</td>\n",
       "      <td>49.225000</td>\n",
       "      <td>77.900000</td>\n",
       "      <td>75.575000</td>\n",
       "      <td>34.000000</td>\n",
       "      <td>614.500000</td>\n",
       "      <td>8.200000</td>\n",
       "      <td>1.790000</td>\n",
       "      <td>1.025000e+04</td>\n",
       "      <td>2570.000000</td>\n",
       "      <td>1.982500e+06</td>\n",
       "    </tr>\n",
       "    <tr>\n",
       "      <th>50%</th>\n",
       "      <td>5.395765</td>\n",
       "      <td>11050.000000</td>\n",
       "      <td>72.550000</td>\n",
       "      <td>87.900000</td>\n",
       "      <td>94.950000</td>\n",
       "      <td>81.573826</td>\n",
       "      <td>38.579375</td>\n",
       "      <td>1565.000000</td>\n",
       "      <td>17.900000</td>\n",
       "      <td>2.415000</td>\n",
       "      <td>7.000000e+04</td>\n",
       "      <td>2845.952381</td>\n",
       "      <td>8.435000e+06</td>\n",
       "    </tr>\n",
       "    <tr>\n",
       "      <th>75%</th>\n",
       "      <td>5.880369</td>\n",
       "      <td>24100.000000</td>\n",
       "      <td>77.400000</td>\n",
       "      <td>97.700000</td>\n",
       "      <td>99.300000</td>\n",
       "      <td>95.375000</td>\n",
       "      <td>42.175000</td>\n",
       "      <td>2425.000000</td>\n",
       "      <td>49.225000</td>\n",
       "      <td>3.687500</td>\n",
       "      <td>2.179917e+05</td>\n",
       "      <td>3140.000000</td>\n",
       "      <td>2.742500e+07</td>\n",
       "    </tr>\n",
       "    <tr>\n",
       "      <th>max</th>\n",
       "      <td>7.603434</td>\n",
       "      <td>120000.000000</td>\n",
       "      <td>83.800000</td>\n",
       "      <td>100.000000</td>\n",
       "      <td>100.000000</td>\n",
       "      <td>100.000000</td>\n",
       "      <td>63.000000</td>\n",
       "      <td>18600.000000</td>\n",
       "      <td>137.000000</td>\n",
       "      <td>7.290000</td>\n",
       "      <td>5.600000e+06</td>\n",
       "      <td>3770.000000</td>\n",
       "      <td>1.400000e+09</td>\n",
       "    </tr>\n",
       "  </tbody>\n",
       "</table>\n",
       "</div>"
      ],
      "text/plain": [
       "        happiness         income     lifeexp  sanitation       water  \\\n",
       "count  194.000000     194.000000  194.000000  194.000000  194.000000   \n",
       "mean     5.395765   17432.849741   71.933690   73.838247   86.329381   \n",
       "std      0.953547   19072.580021    7.466359   29.269367   17.568245   \n",
       "min      2.701591     623.000000   49.600000    7.080000   19.300000   \n",
       "25%      4.891838    3297.500000   66.425000   49.225000   77.900000   \n",
       "50%      5.395765   11050.000000   72.550000   87.900000   94.950000   \n",
       "75%      5.880369   24100.000000   77.400000   97.700000   99.300000   \n",
       "max      7.603434  120000.000000   83.800000  100.000000  100.000000   \n",
       "\n",
       "         literacy  inequality        energy  childmortality   fertility  \\\n",
       "count  194.000000  194.000000    194.000000      194.000000  194.000000   \n",
       "mean    81.573826   38.579375   2183.725325       31.441451    2.835924   \n",
       "std     17.055722    7.257464   2618.536430       31.237992    1.336162   \n",
       "min     25.300000   16.600000      9.580000        2.200000    1.240000   \n",
       "25%     75.575000   34.000000    614.500000        8.200000    1.790000   \n",
       "50%     81.573826   38.579375   1565.000000       17.900000    2.415000   \n",
       "75%     95.375000   42.175000   2425.000000       49.225000    3.687500   \n",
       "max    100.000000   63.000000  18600.000000      137.000000    7.290000   \n",
       "\n",
       "                hiv   foodsupply    population  \n",
       "count  1.940000e+02   194.000000  1.940000e+02  \n",
       "mean   2.179917e+05  2845.952381  3.787195e+07  \n",
       "std    5.521169e+05   413.199619  1.419670e+08  \n",
       "min    6.000000e+01  1880.000000  1.100000e+04  \n",
       "25%    1.025000e+04  2570.000000  1.982500e+06  \n",
       "50%    7.000000e+04  2845.952381  8.435000e+06  \n",
       "75%    2.179917e+05  3140.000000  2.742500e+07  \n",
       "max    5.600000e+06  3770.000000  1.400000e+09  "
      ]
     },
     "execution_count": 10,
     "metadata": {},
     "output_type": "execute_result"
    }
   ],
   "source": [
    "# Compute descriptive stats\n",
    "dataset.describe()"
   ]
  },
  {
   "cell_type": "markdown",
   "metadata": {},
   "source": [
    "### Visualise\n",
    "A correlation matrix can be used to spot correlations between the features.  "
   ]
  },
  {
   "cell_type": "code",
   "execution_count": 11,
   "metadata": {},
   "outputs": [
    {
     "data": {
      "image/png": "[encoded data removed]",
      "text/plain": [
       "<Figure size 720x720 with 2 Axes>"
      ]
     },
     "metadata": {
      "needs_background": "light"
     },
     "output_type": "display_data"
    }
   ],
   "source": [
    "# Display a correlation matrix\n",
    "correlationMatrix(dataset)"
   ]
  },
  {
   "cell_type": "markdown",
   "metadata": {},
   "source": [
    "We can also plot some boxplots to understand the distribution of each feature.  "
   ]
  },
  {
   "cell_type": "code",
   "execution_count": 12,
   "metadata": {},
   "outputs": [
    {
     "data": {
      "image/png": "[encoded data removed]",
      "text/plain": [
       "<Figure size 1440x2520 with 28 Axes>"
      ]
     },
     "metadata": {
      "needs_background": "light"
     },
     "output_type": "display_data"
    }
   ],
   "source": [
    "# Display boxplots for each numeric feature\n",
    "boxPlotAll(dataset)"
   ]
  },
  {
   "cell_type": "markdown",
   "metadata": {},
   "source": [
    "## Prepare Data\n",
    "### Feature Engineering\n",
    "\n",
    "We need to create our banded lifeexp feature, which will be the target feature:"
   ]
  },
  {
   "cell_type": "code",
   "execution_count": 13,
   "metadata": {},
   "outputs": [],
   "source": [
    "# Bin lifexp into L, M and H bands\n",
    "dataset = appendEqualCountsClass(dataset, \"lifeexp_band\", \"lifeexp\", 3, [\"L\",\"M\",\"H\"])"
   ]
  },
  {
   "cell_type": "markdown",
   "metadata": {},
   "source": [
    "Check we have an even distribution of rows across the bands:"
   ]
  },
  {
   "cell_type": "code",
   "execution_count": 14,
   "metadata": {},
   "outputs": [
    {
     "data": {
      "text/plain": [
       "H    65\n",
       "L    65\n",
       "M    64\n",
       "Name: lifeexp_band, dtype: int64"
      ]
     },
     "execution_count": 14,
     "metadata": {},
     "output_type": "execute_result"
    }
   ],
   "source": [
    "# Check how many rows in each bin\n",
    "dataset.lifeexp_band.value_counts()"
   ]
  },
  {
   "cell_type": "markdown",
   "metadata": {},
   "source": [
    "And let's check a few rows to confirm it has done as expected:"
   ]
  },
  {
   "cell_type": "code",
   "execution_count": 15,
   "metadata": {},
   "outputs": [
    {
     "data": {
      "text/html": [
       "<div>\n",
       "<style scoped>\n",
       "    .dataframe tbody tr th:only-of-type {\n",
       "        vertical-align: middle;\n",
       "    }\n",
       "\n",
       "    .dataframe tbody tr th {\n",
       "        vertical-align: top;\n",
       "    }\n",
       "\n",
       "    .dataframe thead th {\n",
       "        text-align: right;\n",
       "    }\n",
       "</style>\n",
       "<table border=\"1\" class=\"dataframe\">\n",
       "  <thead>\n",
       "    <tr style=\"text-align: right;\">\n",
       "      <th></th>\n",
       "      <th>lifeexp</th>\n",
       "      <th>lifeexp_band</th>\n",
       "    </tr>\n",
       "  </thead>\n",
       "  <tbody>\n",
       "    <tr>\n",
       "      <th>0</th>\n",
       "      <td>57.9</td>\n",
       "      <td>L</td>\n",
       "    </tr>\n",
       "    <tr>\n",
       "      <th>1</th>\n",
       "      <td>77.6</td>\n",
       "      <td>H</td>\n",
       "    </tr>\n",
       "    <tr>\n",
       "      <th>2</th>\n",
       "      <td>76.5</td>\n",
       "      <td>H</td>\n",
       "    </tr>\n",
       "    <tr>\n",
       "      <th>3</th>\n",
       "      <td>75.4</td>\n",
       "      <td>M</td>\n",
       "    </tr>\n",
       "    <tr>\n",
       "      <th>4</th>\n",
       "      <td>82.6</td>\n",
       "      <td>H</td>\n",
       "    </tr>\n",
       "  </tbody>\n",
       "</table>\n",
       "</div>"
      ],
      "text/plain": [
       "   lifeexp lifeexp_band\n",
       "0     57.9            L\n",
       "1     77.6            H\n",
       "2     76.5            H\n",
       "3     75.4            M\n",
       "4     82.6            H"
      ]
     },
     "execution_count": 15,
     "metadata": {},
     "output_type": "execute_result"
    }
   ],
   "source": [
    "# Check the binning has worked as expected\n",
    "dataset[['lifeexp','lifeexp_band']].head()"
   ]
  },
  {
   "cell_type": "markdown",
   "metadata": {},
   "source": [
    "\n",
    "### Select features and split into input and target features\n",
    "Now we need to decide which columns to use as inputs and which is our target.  Let's remind ourselves of the columns we have:"
   ]
  },
  {
   "cell_type": "code",
   "execution_count": 16,
   "metadata": {},
   "outputs": [
    {
     "data": {
      "text/plain": [
       "Index(['country', 'happiness', 'income', 'lifeexp', 'sanitation', 'water',\n",
       "       'literacy', 'inequality', 'energy', 'childmortality', 'fertility',\n",
       "       'hiv', 'foodsupply', 'population', 'lifeexp_band'],\n",
       "      dtype='object')"
      ]
     },
     "execution_count": 16,
     "metadata": {},
     "output_type": "execute_result"
    }
   ],
   "source": [
    "dataset.columns"
   ]
  },
  {
   "cell_type": "markdown",
   "metadata": {},
   "source": [
    "And let's select lifeexp_band as our target feature (the one we will predict) and everything else as the input features (the ones we will use to make the prediction)."
   ]
  },
  {
   "cell_type": "code",
   "execution_count": 17,
   "metadata": {},
   "outputs": [],
   "source": [
    "# Split into input and target features\n",
    "y = dataset[\"lifeexp_band\"]\n",
    "X = dataset[['happiness', 'income', 'sanitation', 'water', 'literacy', 'inequality', 'energy', 'childmortality', 'fertility',  'hiv', 'foodsupply', 'population']]"
   ]
  },
  {
   "cell_type": "code",
   "execution_count": 18,
   "metadata": {},
   "outputs": [
    {
     "data": {
      "text/html": [
       "<div>\n",
       "<style scoped>\n",
       "    .dataframe tbody tr th:only-of-type {\n",
       "        vertical-align: middle;\n",
       "    }\n",
       "\n",
       "    .dataframe tbody tr th {\n",
       "        vertical-align: top;\n",
       "    }\n",
       "\n",
       "    .dataframe thead th {\n",
       "        text-align: right;\n",
       "    }\n",
       "</style>\n",
       "<table border=\"1\" class=\"dataframe\">\n",
       "  <thead>\n",
       "    <tr style=\"text-align: right;\">\n",
       "      <th></th>\n",
       "      <th>happiness</th>\n",
       "      <th>income</th>\n",
       "      <th>sanitation</th>\n",
       "      <th>water</th>\n",
       "      <th>literacy</th>\n",
       "      <th>inequality</th>\n",
       "      <th>energy</th>\n",
       "      <th>childmortality</th>\n",
       "      <th>fertility</th>\n",
       "      <th>hiv</th>\n",
       "      <th>foodsupply</th>\n",
       "      <th>population</th>\n",
       "    </tr>\n",
       "  </thead>\n",
       "  <tbody>\n",
       "    <tr>\n",
       "      <th>0</th>\n",
       "      <td>3.982855</td>\n",
       "      <td>1750.0</td>\n",
       "      <td>39.2</td>\n",
       "      <td>63.0</td>\n",
       "      <td>39.000000</td>\n",
       "      <td>38.579375</td>\n",
       "      <td>2183.725325</td>\n",
       "      <td>73.2</td>\n",
       "      <td>4.80</td>\n",
       "      <td>5800.000000</td>\n",
       "      <td>2090.0</td>\n",
       "      <td>33700000</td>\n",
       "    </tr>\n",
       "    <tr>\n",
       "      <th>1</th>\n",
       "      <td>4.606651</td>\n",
       "      <td>11000.0</td>\n",
       "      <td>97.7</td>\n",
       "      <td>91.4</td>\n",
       "      <td>96.800000</td>\n",
       "      <td>29.000000</td>\n",
       "      <td>808.000000</td>\n",
       "      <td>14.0</td>\n",
       "      <td>1.71</td>\n",
       "      <td>217991.677852</td>\n",
       "      <td>3190.0</td>\n",
       "      <td>2920000</td>\n",
       "    </tr>\n",
       "    <tr>\n",
       "      <th>2</th>\n",
       "      <td>6.697131</td>\n",
       "      <td>19100.0</td>\n",
       "      <td>94.8</td>\n",
       "      <td>99.6</td>\n",
       "      <td>97.900000</td>\n",
       "      <td>41.400000</td>\n",
       "      <td>2020.000000</td>\n",
       "      <td>11.6</td>\n",
       "      <td>2.31</td>\n",
       "      <td>95000.000000</td>\n",
       "      <td>3230.0</td>\n",
       "      <td>43400000</td>\n",
       "    </tr>\n",
       "    <tr>\n",
       "      <th>3</th>\n",
       "      <td>4.348320</td>\n",
       "      <td>8180.0</td>\n",
       "      <td>91.6</td>\n",
       "      <td>98.9</td>\n",
       "      <td>99.600000</td>\n",
       "      <td>32.400000</td>\n",
       "      <td>1020.000000</td>\n",
       "      <td>14.0</td>\n",
       "      <td>1.66</td>\n",
       "      <td>3600.000000</td>\n",
       "      <td>2930.0</td>\n",
       "      <td>2920000</td>\n",
       "    </tr>\n",
       "    <tr>\n",
       "      <th>4</th>\n",
       "      <td>7.309061</td>\n",
       "      <td>43800.0</td>\n",
       "      <td>100.0</td>\n",
       "      <td>100.0</td>\n",
       "      <td>81.573826</td>\n",
       "      <td>34.700000</td>\n",
       "      <td>5480.000000</td>\n",
       "      <td>3.8</td>\n",
       "      <td>1.86</td>\n",
       "      <td>22000.000000</td>\n",
       "      <td>3280.0</td>\n",
       "      <td>23800000</td>\n",
       "    </tr>\n",
       "  </tbody>\n",
       "</table>\n",
       "</div>"
      ],
      "text/plain": [
       "   happiness   income  sanitation  water   literacy  inequality       energy  \\\n",
       "0   3.982855   1750.0        39.2   63.0  39.000000   38.579375  2183.725325   \n",
       "1   4.606651  11000.0        97.7   91.4  96.800000   29.000000   808.000000   \n",
       "2   6.697131  19100.0        94.8   99.6  97.900000   41.400000  2020.000000   \n",
       "3   4.348320   8180.0        91.6   98.9  99.600000   32.400000  1020.000000   \n",
       "4   7.309061  43800.0       100.0  100.0  81.573826   34.700000  5480.000000   \n",
       "\n",
       "   childmortality  fertility            hiv  foodsupply  population  \n",
       "0            73.2       4.80    5800.000000      2090.0    33700000  \n",
       "1            14.0       1.71  217991.677852      3190.0     2920000  \n",
       "2            11.6       2.31   95000.000000      3230.0    43400000  \n",
       "3            14.0       1.66    3600.000000      2930.0     2920000  \n",
       "4             3.8       1.86   22000.000000      3280.0    23800000  "
      ]
     },
     "execution_count": 18,
     "metadata": {},
     "output_type": "execute_result"
    }
   ],
   "source": [
    "X.head()"
   ]
  },
  {
   "cell_type": "code",
   "execution_count": 19,
   "metadata": {},
   "outputs": [
    {
     "data": {
      "text/plain": [
       "0    L\n",
       "1    H\n",
       "2    H\n",
       "3    M\n",
       "4    H\n",
       "Name: lifeexp_band, dtype: category\n",
       "Categories (3, object): [L < M < H]"
      ]
     },
     "execution_count": 19,
     "metadata": {},
     "output_type": "execute_result"
    }
   ],
   "source": [
    "y.head()"
   ]
  },
  {
   "cell_type": "markdown",
   "metadata": {},
   "source": [
    "###  Scale features\n",
    "When we ran dataset.describe() above we saw that the range of values between the min and max was different for different features.  "
   ]
  },
  {
   "cell_type": "code",
   "execution_count": 20,
   "metadata": {},
   "outputs": [
    {
     "data": {
      "text/html": [
       "<div>\n",
       "<style scoped>\n",
       "    .dataframe tbody tr th:only-of-type {\n",
       "        vertical-align: middle;\n",
       "    }\n",
       "\n",
       "    .dataframe tbody tr th {\n",
       "        vertical-align: top;\n",
       "    }\n",
       "\n",
       "    .dataframe thead th {\n",
       "        text-align: right;\n",
       "    }\n",
       "</style>\n",
       "<table border=\"1\" class=\"dataframe\">\n",
       "  <thead>\n",
       "    <tr style=\"text-align: right;\">\n",
       "      <th></th>\n",
       "      <th>happiness</th>\n",
       "      <th>income</th>\n",
       "      <th>sanitation</th>\n",
       "      <th>water</th>\n",
       "      <th>literacy</th>\n",
       "      <th>inequality</th>\n",
       "      <th>energy</th>\n",
       "      <th>childmortality</th>\n",
       "      <th>fertility</th>\n",
       "      <th>hiv</th>\n",
       "      <th>foodsupply</th>\n",
       "      <th>population</th>\n",
       "    </tr>\n",
       "  </thead>\n",
       "  <tbody>\n",
       "    <tr>\n",
       "      <th>count</th>\n",
       "      <td>194.000000</td>\n",
       "      <td>194.000000</td>\n",
       "      <td>194.000000</td>\n",
       "      <td>194.000000</td>\n",
       "      <td>194.000000</td>\n",
       "      <td>194.000000</td>\n",
       "      <td>194.000000</td>\n",
       "      <td>194.000000</td>\n",
       "      <td>194.000000</td>\n",
       "      <td>1.940000e+02</td>\n",
       "      <td>194.000000</td>\n",
       "      <td>1.940000e+02</td>\n",
       "    </tr>\n",
       "    <tr>\n",
       "      <th>mean</th>\n",
       "      <td>5.395765</td>\n",
       "      <td>17432.849741</td>\n",
       "      <td>73.838247</td>\n",
       "      <td>86.329381</td>\n",
       "      <td>81.573826</td>\n",
       "      <td>38.579375</td>\n",
       "      <td>2183.725325</td>\n",
       "      <td>31.441451</td>\n",
       "      <td>2.835924</td>\n",
       "      <td>2.179917e+05</td>\n",
       "      <td>2845.952381</td>\n",
       "      <td>3.787195e+07</td>\n",
       "    </tr>\n",
       "    <tr>\n",
       "      <th>std</th>\n",
       "      <td>0.953547</td>\n",
       "      <td>19072.580021</td>\n",
       "      <td>29.269367</td>\n",
       "      <td>17.568245</td>\n",
       "      <td>17.055722</td>\n",
       "      <td>7.257464</td>\n",
       "      <td>2618.536430</td>\n",
       "      <td>31.237992</td>\n",
       "      <td>1.336162</td>\n",
       "      <td>5.521169e+05</td>\n",
       "      <td>413.199619</td>\n",
       "      <td>1.419670e+08</td>\n",
       "    </tr>\n",
       "    <tr>\n",
       "      <th>min</th>\n",
       "      <td>2.701591</td>\n",
       "      <td>623.000000</td>\n",
       "      <td>7.080000</td>\n",
       "      <td>19.300000</td>\n",
       "      <td>25.300000</td>\n",
       "      <td>16.600000</td>\n",
       "      <td>9.580000</td>\n",
       "      <td>2.200000</td>\n",
       "      <td>1.240000</td>\n",
       "      <td>6.000000e+01</td>\n",
       "      <td>1880.000000</td>\n",
       "      <td>1.100000e+04</td>\n",
       "    </tr>\n",
       "    <tr>\n",
       "      <th>25%</th>\n",
       "      <td>4.891838</td>\n",
       "      <td>3297.500000</td>\n",
       "      <td>49.225000</td>\n",
       "      <td>77.900000</td>\n",
       "      <td>75.575000</td>\n",
       "      <td>34.000000</td>\n",
       "      <td>614.500000</td>\n",
       "      <td>8.200000</td>\n",
       "      <td>1.790000</td>\n",
       "      <td>1.025000e+04</td>\n",
       "      <td>2570.000000</td>\n",
       "      <td>1.982500e+06</td>\n",
       "    </tr>\n",
       "    <tr>\n",
       "      <th>50%</th>\n",
       "      <td>5.395765</td>\n",
       "      <td>11050.000000</td>\n",
       "      <td>87.900000</td>\n",
       "      <td>94.950000</td>\n",
       "      <td>81.573826</td>\n",
       "      <td>38.579375</td>\n",
       "      <td>1565.000000</td>\n",
       "      <td>17.900000</td>\n",
       "      <td>2.415000</td>\n",
       "      <td>7.000000e+04</td>\n",
       "      <td>2845.952381</td>\n",
       "      <td>8.435000e+06</td>\n",
       "    </tr>\n",
       "    <tr>\n",
       "      <th>75%</th>\n",
       "      <td>5.880369</td>\n",
       "      <td>24100.000000</td>\n",
       "      <td>97.700000</td>\n",
       "      <td>99.300000</td>\n",
       "      <td>95.375000</td>\n",
       "      <td>42.175000</td>\n",
       "      <td>2425.000000</td>\n",
       "      <td>49.225000</td>\n",
       "      <td>3.687500</td>\n",
       "      <td>2.179917e+05</td>\n",
       "      <td>3140.000000</td>\n",
       "      <td>2.742500e+07</td>\n",
       "    </tr>\n",
       "    <tr>\n",
       "      <th>max</th>\n",
       "      <td>7.603434</td>\n",
       "      <td>120000.000000</td>\n",
       "      <td>100.000000</td>\n",
       "      <td>100.000000</td>\n",
       "      <td>100.000000</td>\n",
       "      <td>63.000000</td>\n",
       "      <td>18600.000000</td>\n",
       "      <td>137.000000</td>\n",
       "      <td>7.290000</td>\n",
       "      <td>5.600000e+06</td>\n",
       "      <td>3770.000000</td>\n",
       "      <td>1.400000e+09</td>\n",
       "    </tr>\n",
       "  </tbody>\n",
       "</table>\n",
       "</div>"
      ],
      "text/plain": [
       "        happiness         income  sanitation       water    literacy  \\\n",
       "count  194.000000     194.000000  194.000000  194.000000  194.000000   \n",
       "mean     5.395765   17432.849741   73.838247   86.329381   81.573826   \n",
       "std      0.953547   19072.580021   29.269367   17.568245   17.055722   \n",
       "min      2.701591     623.000000    7.080000   19.300000   25.300000   \n",
       "25%      4.891838    3297.500000   49.225000   77.900000   75.575000   \n",
       "50%      5.395765   11050.000000   87.900000   94.950000   81.573826   \n",
       "75%      5.880369   24100.000000   97.700000   99.300000   95.375000   \n",
       "max      7.603434  120000.000000  100.000000  100.000000  100.000000   \n",
       "\n",
       "       inequality        energy  childmortality   fertility           hiv  \\\n",
       "count  194.000000    194.000000      194.000000  194.000000  1.940000e+02   \n",
       "mean    38.579375   2183.725325       31.441451    2.835924  2.179917e+05   \n",
       "std      7.257464   2618.536430       31.237992    1.336162  5.521169e+05   \n",
       "min     16.600000      9.580000        2.200000    1.240000  6.000000e+01   \n",
       "25%     34.000000    614.500000        8.200000    1.790000  1.025000e+04   \n",
       "50%     38.579375   1565.000000       17.900000    2.415000  7.000000e+04   \n",
       "75%     42.175000   2425.000000       49.225000    3.687500  2.179917e+05   \n",
       "max     63.000000  18600.000000      137.000000    7.290000  5.600000e+06   \n",
       "\n",
       "        foodsupply    population  \n",
       "count   194.000000  1.940000e+02  \n",
       "mean   2845.952381  3.787195e+07  \n",
       "std     413.199619  1.419670e+08  \n",
       "min    1880.000000  1.100000e+04  \n",
       "25%    2570.000000  1.982500e+06  \n",
       "50%    2845.952381  8.435000e+06  \n",
       "75%    3140.000000  2.742500e+07  \n",
       "max    3770.000000  1.400000e+09  "
      ]
     },
     "execution_count": 20,
     "metadata": {},
     "output_type": "execute_result"
    }
   ],
   "source": [
    "X.describe()"
   ]
  },
  {
   "cell_type": "markdown",
   "metadata": {},
   "source": [
    "Many algorithms will not perform at their best when presented with such data, so we will scale the data to all be in the range 0 to 1:"
   ]
  },
  {
   "cell_type": "code",
   "execution_count": 21,
   "metadata": {},
   "outputs": [
    {
     "name": "stderr",
     "output_type": "stream",
     "text": [
      "C:\\Users\\llewe\\Anaconda3\\lib\\site-packages\\sklearn\\preprocessing\\data.py:334: DataConversionWarning: Data with input dtype int64, float64 were all converted to float64 by MinMaxScaler.\n",
      "  return self.partial_fit(X, y)\n"
     ]
    }
   ],
   "source": [
    "# Rescale the data\n",
    "scaler = MinMaxScaler(feature_range=(0,1))\n",
    "rescaledX = scaler.fit_transform(X)\n",
    "\n",
    "# Convert X back to a Pandas DataFrame, for convenience\n",
    "X = pd.DataFrame(rescaledX, columns=X.columns)"
   ]
  },
  {
   "cell_type": "markdown",
   "metadata": {},
   "source": [
    "We can now see every feature now has a min of 0 and a max of 1:"
   ]
  },
  {
   "cell_type": "code",
   "execution_count": 22,
   "metadata": {},
   "outputs": [
    {
     "data": {
      "text/html": [
       "<div>\n",
       "<style scoped>\n",
       "    .dataframe tbody tr th:only-of-type {\n",
       "        vertical-align: middle;\n",
       "    }\n",
       "\n",
       "    .dataframe tbody tr th {\n",
       "        vertical-align: top;\n",
       "    }\n",
       "\n",
       "    .dataframe thead th {\n",
       "        text-align: right;\n",
       "    }\n",
       "</style>\n",
       "<table border=\"1\" class=\"dataframe\">\n",
       "  <thead>\n",
       "    <tr style=\"text-align: right;\">\n",
       "      <th></th>\n",
       "      <th>happiness</th>\n",
       "      <th>income</th>\n",
       "      <th>sanitation</th>\n",
       "      <th>water</th>\n",
       "      <th>literacy</th>\n",
       "      <th>inequality</th>\n",
       "      <th>energy</th>\n",
       "      <th>childmortality</th>\n",
       "      <th>fertility</th>\n",
       "      <th>hiv</th>\n",
       "      <th>foodsupply</th>\n",
       "      <th>population</th>\n",
       "    </tr>\n",
       "  </thead>\n",
       "  <tbody>\n",
       "    <tr>\n",
       "      <th>count</th>\n",
       "      <td>194.000000</td>\n",
       "      <td>194.000000</td>\n",
       "      <td>194.000000</td>\n",
       "      <td>194.000000</td>\n",
       "      <td>194.000000</td>\n",
       "      <td>194.000000</td>\n",
       "      <td>194.000000</td>\n",
       "      <td>194.000000</td>\n",
       "      <td>194.000000</td>\n",
       "      <td>194.000000</td>\n",
       "      <td>194.000000</td>\n",
       "      <td>194.000000</td>\n",
       "    </tr>\n",
       "    <tr>\n",
       "      <th>mean</th>\n",
       "      <td>0.549625</td>\n",
       "      <td>0.140813</td>\n",
       "      <td>0.718449</td>\n",
       "      <td>0.830600</td>\n",
       "      <td>0.753331</td>\n",
       "      <td>0.473693</td>\n",
       "      <td>0.116950</td>\n",
       "      <td>0.216925</td>\n",
       "      <td>0.263789</td>\n",
       "      <td>0.038917</td>\n",
       "      <td>0.511086</td>\n",
       "      <td>0.027044</td>\n",
       "    </tr>\n",
       "    <tr>\n",
       "      <th>std</th>\n",
       "      <td>0.194528</td>\n",
       "      <td>0.159768</td>\n",
       "      <td>0.314995</td>\n",
       "      <td>0.217698</td>\n",
       "      <td>0.228323</td>\n",
       "      <td>0.156411</td>\n",
       "      <td>0.140854</td>\n",
       "      <td>0.231736</td>\n",
       "      <td>0.220853</td>\n",
       "      <td>0.098593</td>\n",
       "      <td>0.218624</td>\n",
       "      <td>0.101406</td>\n",
       "    </tr>\n",
       "    <tr>\n",
       "      <th>min</th>\n",
       "      <td>0.000000</td>\n",
       "      <td>0.000000</td>\n",
       "      <td>0.000000</td>\n",
       "      <td>0.000000</td>\n",
       "      <td>0.000000</td>\n",
       "      <td>0.000000</td>\n",
       "      <td>0.000000</td>\n",
       "      <td>0.000000</td>\n",
       "      <td>0.000000</td>\n",
       "      <td>0.000000</td>\n",
       "      <td>0.000000</td>\n",
       "      <td>0.000000</td>\n",
       "    </tr>\n",
       "    <tr>\n",
       "      <th>25%</th>\n",
       "      <td>0.446821</td>\n",
       "      <td>0.022404</td>\n",
       "      <td>0.453562</td>\n",
       "      <td>0.726146</td>\n",
       "      <td>0.673025</td>\n",
       "      <td>0.375000</td>\n",
       "      <td>0.032539</td>\n",
       "      <td>0.044510</td>\n",
       "      <td>0.090909</td>\n",
       "      <td>0.001820</td>\n",
       "      <td>0.365079</td>\n",
       "      <td>0.001408</td>\n",
       "    </tr>\n",
       "    <tr>\n",
       "      <th>50%</th>\n",
       "      <td>0.549625</td>\n",
       "      <td>0.087345</td>\n",
       "      <td>0.869780</td>\n",
       "      <td>0.937423</td>\n",
       "      <td>0.753331</td>\n",
       "      <td>0.473693</td>\n",
       "      <td>0.083668</td>\n",
       "      <td>0.116469</td>\n",
       "      <td>0.194215</td>\n",
       "      <td>0.012489</td>\n",
       "      <td>0.511086</td>\n",
       "      <td>0.006017</td>\n",
       "    </tr>\n",
       "    <tr>\n",
       "      <th>75%</th>\n",
       "      <td>0.648486</td>\n",
       "      <td>0.196663</td>\n",
       "      <td>0.975248</td>\n",
       "      <td>0.991326</td>\n",
       "      <td>0.938086</td>\n",
       "      <td>0.551185</td>\n",
       "      <td>0.129928</td>\n",
       "      <td>0.348850</td>\n",
       "      <td>0.404545</td>\n",
       "      <td>0.038917</td>\n",
       "      <td>0.666667</td>\n",
       "      <td>0.019582</td>\n",
       "    </tr>\n",
       "    <tr>\n",
       "      <th>max</th>\n",
       "      <td>1.000000</td>\n",
       "      <td>1.000000</td>\n",
       "      <td>1.000000</td>\n",
       "      <td>1.000000</td>\n",
       "      <td>1.000000</td>\n",
       "      <td>1.000000</td>\n",
       "      <td>1.000000</td>\n",
       "      <td>1.000000</td>\n",
       "      <td>1.000000</td>\n",
       "      <td>1.000000</td>\n",
       "      <td>1.000000</td>\n",
       "      <td>1.000000</td>\n",
       "    </tr>\n",
       "  </tbody>\n",
       "</table>\n",
       "</div>"
      ],
      "text/plain": [
       "        happiness      income  sanitation       water    literacy  inequality  \\\n",
       "count  194.000000  194.000000  194.000000  194.000000  194.000000  194.000000   \n",
       "mean     0.549625    0.140813    0.718449    0.830600    0.753331    0.473693   \n",
       "std      0.194528    0.159768    0.314995    0.217698    0.228323    0.156411   \n",
       "min      0.000000    0.000000    0.000000    0.000000    0.000000    0.000000   \n",
       "25%      0.446821    0.022404    0.453562    0.726146    0.673025    0.375000   \n",
       "50%      0.549625    0.087345    0.869780    0.937423    0.753331    0.473693   \n",
       "75%      0.648486    0.196663    0.975248    0.991326    0.938086    0.551185   \n",
       "max      1.000000    1.000000    1.000000    1.000000    1.000000    1.000000   \n",
       "\n",
       "           energy  childmortality   fertility         hiv  foodsupply  \\\n",
       "count  194.000000      194.000000  194.000000  194.000000  194.000000   \n",
       "mean     0.116950        0.216925    0.263789    0.038917    0.511086   \n",
       "std      0.140854        0.231736    0.220853    0.098593    0.218624   \n",
       "min      0.000000        0.000000    0.000000    0.000000    0.000000   \n",
       "25%      0.032539        0.044510    0.090909    0.001820    0.365079   \n",
       "50%      0.083668        0.116469    0.194215    0.012489    0.511086   \n",
       "75%      0.129928        0.348850    0.404545    0.038917    0.666667   \n",
       "max      1.000000        1.000000    1.000000    1.000000    1.000000   \n",
       "\n",
       "       population  \n",
       "count  194.000000  \n",
       "mean     0.027044  \n",
       "std      0.101406  \n",
       "min      0.000000  \n",
       "25%      0.001408  \n",
       "50%      0.006017  \n",
       "75%      0.019582  \n",
       "max      1.000000  "
      ]
     },
     "execution_count": 22,
     "metadata": {},
     "output_type": "execute_result"
    }
   ],
   "source": [
    "X.describe()"
   ]
  },
  {
   "cell_type": "markdown",
   "metadata": {},
   "source": [
    "## Build Models\n",
    "BUild both decision trees and logistic regression models and see which one performs the best.\n",
    "\n",
    "\n",
    "### Split into test and training sets\n",
    "Split the X and y sets into training and test sets."
   ]
  },
  {
   "cell_type": "code",
   "execution_count": 23,
   "metadata": {},
   "outputs": [],
   "source": [
    "# Split into test and training sets\n",
    "test_size = 0.33\n",
    "seed = 1\n",
    "X_train, X_test, Y_train, Y_test =  train_test_split(X, y, test_size=test_size, random_state=seed)"
   ]
  },
  {
   "cell_type": "markdown",
   "metadata": {},
   "source": [
    "### Create multiple models and fit them\n",
    "Let's build both models and fit with the training data."
   ]
  },
  {
   "cell_type": "code",
   "execution_count": 24,
   "metadata": {},
   "outputs": [
    {
     "data": {
      "text/plain": [
       "DecisionTreeClassifier(class_weight=None, criterion='gini', max_depth=None,\n",
       "            max_features=None, max_leaf_nodes=None,\n",
       "            min_impurity_decrease=0.0, min_impurity_split=None,\n",
       "            min_samples_leaf=1, min_samples_split=2,\n",
       "            min_weight_fraction_leaf=0.0, presort=False, random_state=None,\n",
       "            splitter='best')"
      ]
     },
     "execution_count": 24,
     "metadata": {},
     "output_type": "execute_result"
    }
   ],
   "source": [
    "# Build a decision tree model\n",
    "model_dt = DecisionTreeClassifier()\n",
    "model_dt.fit(X_train, Y_train)"
   ]
  },
  {
   "cell_type": "code",
   "execution_count": 25,
   "metadata": {},
   "outputs": [
    {
     "data": {
      "text/plain": [
       "LogisticRegression(C=1.0, class_weight=None, dual=False, fit_intercept=True,\n",
       "          intercept_scaling=1, max_iter=100, multi_class='auto',\n",
       "          n_jobs=None, penalty='l2', random_state=None, solver='lbfgs',\n",
       "          tol=0.0001, verbose=0, warm_start=False)"
      ]
     },
     "execution_count": 25,
     "metadata": {},
     "output_type": "execute_result"
    }
   ],
   "source": [
    "# Build a logistic regression model\n",
    "model_lr = LogisticRegression(solver='lbfgs', multi_class='auto')\n",
    "model_lr.fit(X_train, Y_train)"
   ]
  },
  {
   "cell_type": "markdown",
   "metadata": {},
   "source": [
    "### Check the models\n",
    "Run the training data through both models and see how it performs."
   ]
  },
  {
   "cell_type": "code",
   "execution_count": 26,
   "metadata": {},
   "outputs": [
    {
     "name": "stdout",
     "output_type": "stream",
     "text": [
      "DecisionTreeClassifier 1.0\n"
     ]
    }
   ],
   "source": [
    "# Check the model performance with the training data\n",
    "predictions_dt = model_dt.predict(X_train)\n",
    "print(\"DecisionTreeClassifier\", accuracy_score(Y_train, predictions_dt))"
   ]
  },
  {
   "cell_type": "code",
   "execution_count": 27,
   "metadata": {},
   "outputs": [
    {
     "name": "stdout",
     "output_type": "stream",
     "text": [
      "LogisticRegression 0.8217054263565892\n"
     ]
    }
   ],
   "source": [
    "# Check the model performance with the training data\n",
    "predictions_lr = model_lr.predict(X_train)\n",
    "print(\"LogisticRegression\", accuracy_score(Y_train, predictions_lr))"
   ]
  },
  {
   "cell_type": "markdown",
   "metadata": {},
   "source": [
    "## Evaluate the models\n",
    "Now we evaluate the models by testing with the test set:"
   ]
  },
  {
   "cell_type": "code",
   "execution_count": 28,
   "metadata": {},
   "outputs": [
    {
     "name": "stdout",
     "output_type": "stream",
     "text": [
      "DecisionTreeClassifier 0.6461538461538462\n"
     ]
    }
   ],
   "source": [
    "predictions_dt = model_dt.predict(X_test)\n",
    "print(\"DecisionTreeClassifier\", accuracy_score(Y_test, predictions_dt))"
   ]
  },
  {
   "cell_type": "code",
   "execution_count": 29,
   "metadata": {},
   "outputs": [
    {
     "name": "stdout",
     "output_type": "stream",
     "text": [
      "LogisticRegression 0.7230769230769231\n"
     ]
    }
   ],
   "source": [
    "predictions_lr = model_lr.predict(X_test)\n",
    "print(\"LogisticRegression\", accuracy_score(Y_test, predictions_lr))"
   ]
  },
  {
   "cell_type": "markdown",
   "metadata": {},
   "source": [
    "### Choose the best performing model\n",
    "Logistic Regression model will be our chosen model as it performed the best."
   ]
  },
  {
   "cell_type": "code",
   "execution_count": 30,
   "metadata": {},
   "outputs": [],
   "source": [
    "model = model_lr"
   ]
  },
  {
   "cell_type": "markdown",
   "metadata": {},
   "source": [
    "## Iterate!\n",
    "At this point, you should review your code and process and see what improvements could be made."
   ]
  },
  {
   "cell_type": "markdown",
   "metadata": {},
   "source": [
    "## Inspect the models\n",
    "Here is the decision tree created for this exericise:"
   ]
  },
  {
   "cell_type": "code",
   "execution_count": 31,
   "metadata": {},
   "outputs": [
    {
     "data": {
      "image/svg+xml": [
       "<?xml version=\"1.0\" encoding=\"UTF-8\" standalone=\"no\"?>\r\n",
       "<!DOCTYPE svg PUBLIC \"-//W3C//DTD SVG 1.1//EN\"\r\n",
       " \"http://www.w3.org/Graphics/SVG/1.1/DTD/svg11.dtd\">\r\n",
       "<!-- Generated by graphviz version 2.38.0 (20140413.2041)\r\n",
       " -->\r\n",
       "<!-- Title: Tree Pages: 1 -->\r\n",
       "<svg width=\"1398pt\" height=\"1028pt\"\r\n",
       " viewBox=\"0.00 0.00 1398.00 1028.00\" xmlns=\"http://www.w3.org/2000/svg\" xmlns:xlink=\"http://www.w3.org/1999/xlink\">\r\n",
       "<g id=\"graph0\" class=\"graph\" transform=\"scale(1 1) rotate(0) translate(4 1024)\">\r\n",
       "<title>Tree</title>\r\n",
       "<polygon fill=\"white\" stroke=\"none\" points=\"-4,4 -4,-1024 1394,-1024 1394,4 -4,4\"/>\r\n",
       "<!-- 0 -->\r\n",
       "<g id=\"node1\" class=\"node\"><title>0</title>\r\n",
       "<path fill=\"#39e581\" fill-opacity=\"0.082353\" stroke=\"black\" d=\"M582,-1020C582,-1020 469,-1020 469,-1020 463,-1020 457,-1014 457,-1008 457,-1008 457,-949 457,-949 457,-943 463,-937 469,-937 469,-937 582,-937 582,-937 588,-937 594,-943 594,-949 594,-949 594,-1008 594,-1008 594,-1014 588,-1020 582,-1020\"/>\r\n",
       "<text text-anchor=\"start\" x=\"469.5\" y=\"-1004.8\" font-family=\"Helvetica,sans-Serif\" font-size=\"14.00\">sanitation ≤ 0.728</text>\r\n",
       "<text text-anchor=\"start\" x=\"488\" y=\"-989.8\" font-family=\"Helvetica,sans-Serif\" font-size=\"14.00\">gini = 0.663</text>\r\n",
       "<text text-anchor=\"start\" x=\"478\" y=\"-974.8\" font-family=\"Helvetica,sans-Serif\" font-size=\"14.00\">samples = 129</text>\r\n",
       "<text text-anchor=\"start\" x=\"465\" y=\"-959.8\" font-family=\"Helvetica,sans-Serif\" font-size=\"14.00\">value = [38, 49, 42]</text>\r\n",
       "<text text-anchor=\"start\" x=\"496.5\" y=\"-944.8\" font-family=\"Helvetica,sans-Serif\" font-size=\"14.00\">class = L</text>\r\n",
       "</g>\r\n",
       "<!-- 1 -->\r\n",
       "<g id=\"node2\" class=\"node\"><title>1</title>\r\n",
       "<path fill=\"#39e581\" fill-opacity=\"0.870588\" stroke=\"black\" d=\"M501,-901C501,-901 404,-901 404,-901 398,-901 392,-895 392,-889 392,-889 392,-830 392,-830 392,-824 398,-818 404,-818 404,-818 501,-818 501,-818 507,-818 513,-824 513,-830 513,-830 513,-889 513,-889 513,-895 507,-901 501,-901\"/>\r\n",
       "<text text-anchor=\"start\" x=\"409.5\" y=\"-885.8\" font-family=\"Helvetica,sans-Serif\" font-size=\"14.00\">water ≤ 0.897</text>\r\n",
       "<text text-anchor=\"start\" x=\"415\" y=\"-870.8\" font-family=\"Helvetica,sans-Serif\" font-size=\"14.00\">gini = 0.204</text>\r\n",
       "<text text-anchor=\"start\" x=\"409\" y=\"-855.8\" font-family=\"Helvetica,sans-Serif\" font-size=\"14.00\">samples = 52</text>\r\n",
       "<text text-anchor=\"start\" x=\"400\" y=\"-840.8\" font-family=\"Helvetica,sans-Serif\" font-size=\"14.00\">value = [0, 46, 6]</text>\r\n",
       "<text text-anchor=\"start\" x=\"423.5\" y=\"-825.8\" font-family=\"Helvetica,sans-Serif\" font-size=\"14.00\">class = L</text>\r\n",
       "</g>\r\n",
       "<!-- 0&#45;&gt;1 -->\r\n",
       "<g id=\"edge1\" class=\"edge\"><title>0&#45;&gt;1</title>\r\n",
       "<path fill=\"none\" stroke=\"black\" d=\"M500.173,-936.907C494.681,-928.105 488.815,-918.703 483.143,-909.612\"/>\r\n",
       "<polygon fill=\"black\" stroke=\"black\" points=\"486.045,-907.652 477.782,-901.021 480.106,-911.358 486.045,-907.652\"/>\r\n",
       "<text text-anchor=\"middle\" x=\"472.142\" y=\"-921.676\" font-family=\"Helvetica,sans-Serif\" font-size=\"14.00\">True</text>\r\n",
       "</g>\r\n",
       "<!-- 10 -->\r\n",
       "<g id=\"node11\" class=\"node\"><title>10</title>\r\n",
       "<path fill=\"#e58139\" fill-opacity=\"0.047059\" stroke=\"black\" d=\"M653.5,-901C653.5,-901 543.5,-901 543.5,-901 537.5,-901 531.5,-895 531.5,-889 531.5,-889 531.5,-830 531.5,-830 531.5,-824 537.5,-818 543.5,-818 543.5,-818 653.5,-818 653.5,-818 659.5,-818 665.5,-824 665.5,-830 665.5,-830 665.5,-889 665.5,-889 665.5,-895 659.5,-901 653.5,-901\"/>\r\n",
       "<text text-anchor=\"start\" x=\"539.5\" y=\"-885.8\" font-family=\"Helvetica,sans-Serif\" font-size=\"14.00\">happiness ≤ 0.744</text>\r\n",
       "<text text-anchor=\"start\" x=\"561\" y=\"-870.8\" font-family=\"Helvetica,sans-Serif\" font-size=\"14.00\">gini = 0.536</text>\r\n",
       "<text text-anchor=\"start\" x=\"555\" y=\"-855.8\" font-family=\"Helvetica,sans-Serif\" font-size=\"14.00\">samples = 77</text>\r\n",
       "<text text-anchor=\"start\" x=\"542\" y=\"-840.8\" font-family=\"Helvetica,sans-Serif\" font-size=\"14.00\">value = [38, 3, 36]</text>\r\n",
       "<text text-anchor=\"start\" x=\"569\" y=\"-825.8\" font-family=\"Helvetica,sans-Serif\" font-size=\"14.00\">class = H</text>\r\n",
       "</g>\r\n",
       "<!-- 0&#45;&gt;10 -->\r\n",
       "<g id=\"edge10\" class=\"edge\"><title>0&#45;&gt;10</title>\r\n",
       "<path fill=\"none\" stroke=\"black\" d=\"M550.827,-936.907C556.319,-928.105 562.185,-918.703 567.857,-909.612\"/>\r\n",
       "<polygon fill=\"black\" stroke=\"black\" points=\"570.894,-911.358 573.218,-901.021 564.955,-907.652 570.894,-911.358\"/>\r\n",
       "<text text-anchor=\"middle\" x=\"578.858\" y=\"-921.676\" font-family=\"Helvetica,sans-Serif\" font-size=\"14.00\">False</text>\r\n",
       "</g>\r\n",
       "<!-- 2 -->\r\n",
       "<g id=\"node3\" class=\"node\"><title>2</title>\r\n",
       "<path fill=\"#39e581\" fill-opacity=\"0.956863\" stroke=\"black\" d=\"M368,-782C368,-782 265,-782 265,-782 259,-782 253,-776 253,-770 253,-770 253,-711 253,-711 253,-705 259,-699 265,-699 265,-699 368,-699 368,-699 374,-699 380,-705 380,-711 380,-711 380,-770 380,-770 380,-776 374,-782 368,-782\"/>\r\n",
       "<text text-anchor=\"start\" x=\"261\" y=\"-766.8\" font-family=\"Helvetica,sans-Serif\" font-size=\"14.00\">inequality ≤ 0.319</text>\r\n",
       "<text text-anchor=\"start\" x=\"283\" y=\"-751.8\" font-family=\"Helvetica,sans-Serif\" font-size=\"14.00\">gini = 0.08</text>\r\n",
       "<text text-anchor=\"start\" x=\"273\" y=\"-736.8\" font-family=\"Helvetica,sans-Serif\" font-size=\"14.00\">samples = 48</text>\r\n",
       "<text text-anchor=\"start\" x=\"264\" y=\"-721.8\" font-family=\"Helvetica,sans-Serif\" font-size=\"14.00\">value = [0, 46, 2]</text>\r\n",
       "<text text-anchor=\"start\" x=\"287.5\" y=\"-706.8\" font-family=\"Helvetica,sans-Serif\" font-size=\"14.00\">class = L</text>\r\n",
       "</g>\r\n",
       "<!-- 1&#45;&gt;2 -->\r\n",
       "<g id=\"edge2\" class=\"edge\"><title>1&#45;&gt;2</title>\r\n",
       "<path fill=\"none\" stroke=\"black\" d=\"M405.315,-817.907C394.345,-808.469 382.574,-798.343 371.306,-788.649\"/>\r\n",
       "<polygon fill=\"black\" stroke=\"black\" points=\"373.464,-785.889 363.601,-782.021 368.899,-791.196 373.464,-785.889\"/>\r\n",
       "</g>\r\n",
       "<!-- 9 -->\r\n",
       "<g id=\"node10\" class=\"node\"><title>9</title>\r\n",
       "<path fill=\"#8139e5\" stroke=\"black\" d=\"M499,-774.5C499,-774.5 410,-774.5 410,-774.5 404,-774.5 398,-768.5 398,-762.5 398,-762.5 398,-718.5 398,-718.5 398,-712.5 404,-706.5 410,-706.5 410,-706.5 499,-706.5 499,-706.5 505,-706.5 511,-712.5 511,-718.5 511,-718.5 511,-762.5 511,-762.5 511,-768.5 505,-774.5 499,-774.5\"/>\r\n",
       "<text text-anchor=\"start\" x=\"425.5\" y=\"-759.3\" font-family=\"Helvetica,sans-Serif\" font-size=\"14.00\">gini = 0.0</text>\r\n",
       "<text text-anchor=\"start\" x=\"415\" y=\"-744.3\" font-family=\"Helvetica,sans-Serif\" font-size=\"14.00\">samples = 4</text>\r\n",
       "<text text-anchor=\"start\" x=\"406\" y=\"-729.3\" font-family=\"Helvetica,sans-Serif\" font-size=\"14.00\">value = [0, 0, 4]</text>\r\n",
       "<text text-anchor=\"start\" x=\"424\" y=\"-714.3\" font-family=\"Helvetica,sans-Serif\" font-size=\"14.00\">class = M</text>\r\n",
       "</g>\r\n",
       "<!-- 1&#45;&gt;9 -->\r\n",
       "<g id=\"edge9\" class=\"edge\"><title>1&#45;&gt;9</title>\r\n",
       "<path fill=\"none\" stroke=\"black\" d=\"M453.194,-817.907C453.377,-807.204 453.575,-795.615 453.76,-784.776\"/>\r\n",
       "<polygon fill=\"black\" stroke=\"black\" points=\"457.262,-784.725 453.933,-774.667 450.263,-784.606 457.262,-784.725\"/>\r\n",
       "</g>\r\n",
       "<!-- 3 -->\r\n",
       "<g id=\"node4\" class=\"node\"><title>3</title>\r\n",
       "<path fill=\"#8139e5\" stroke=\"black\" d=\"M212,-655.5C212,-655.5 123,-655.5 123,-655.5 117,-655.5 111,-649.5 111,-643.5 111,-643.5 111,-599.5 111,-599.5 111,-593.5 117,-587.5 123,-587.5 123,-587.5 212,-587.5 212,-587.5 218,-587.5 224,-593.5 224,-599.5 224,-599.5 224,-643.5 224,-643.5 224,-649.5 218,-655.5 212,-655.5\"/>\r\n",
       "<text text-anchor=\"start\" x=\"138.5\" y=\"-640.3\" font-family=\"Helvetica,sans-Serif\" font-size=\"14.00\">gini = 0.0</text>\r\n",
       "<text text-anchor=\"start\" x=\"128\" y=\"-625.3\" font-family=\"Helvetica,sans-Serif\" font-size=\"14.00\">samples = 1</text>\r\n",
       "<text text-anchor=\"start\" x=\"119\" y=\"-610.3\" font-family=\"Helvetica,sans-Serif\" font-size=\"14.00\">value = [0, 0, 1]</text>\r\n",
       "<text text-anchor=\"start\" x=\"137\" y=\"-595.3\" font-family=\"Helvetica,sans-Serif\" font-size=\"14.00\">class = M</text>\r\n",
       "</g>\r\n",
       "<!-- 2&#45;&gt;3 -->\r\n",
       "<g id=\"edge3\" class=\"edge\"><title>2&#45;&gt;3</title>\r\n",
       "<path fill=\"none\" stroke=\"black\" d=\"M264.805,-698.907C249.629,-686.99 233.054,-673.976 217.956,-662.12\"/>\r\n",
       "<polygon fill=\"black\" stroke=\"black\" points=\"219.765,-659.09 209.738,-655.667 215.442,-664.596 219.765,-659.09\"/>\r\n",
       "</g>\r\n",
       "<!-- 4 -->\r\n",
       "<g id=\"node5\" class=\"node\"><title>4</title>\r\n",
       "<path fill=\"#39e581\" fill-opacity=\"0.976471\" stroke=\"black\" d=\"M380.5,-663C380.5,-663 254.5,-663 254.5,-663 248.5,-663 242.5,-657 242.5,-651 242.5,-651 242.5,-592 242.5,-592 242.5,-586 248.5,-580 254.5,-580 254.5,-580 380.5,-580 380.5,-580 386.5,-580 392.5,-586 392.5,-592 392.5,-592 392.5,-651 392.5,-651 392.5,-657 386.5,-663 380.5,-663\"/>\r\n",
       "<text text-anchor=\"start\" x=\"250.5\" y=\"-647.8\" font-family=\"Helvetica,sans-Serif\" font-size=\"14.00\">childmortality ≤ 0.164</text>\r\n",
       "<text text-anchor=\"start\" x=\"280\" y=\"-632.8\" font-family=\"Helvetica,sans-Serif\" font-size=\"14.00\">gini = 0.042</text>\r\n",
       "<text text-anchor=\"start\" x=\"274\" y=\"-617.8\" font-family=\"Helvetica,sans-Serif\" font-size=\"14.00\">samples = 47</text>\r\n",
       "<text text-anchor=\"start\" x=\"265\" y=\"-602.8\" font-family=\"Helvetica,sans-Serif\" font-size=\"14.00\">value = [0, 46, 1]</text>\r\n",
       "<text text-anchor=\"start\" x=\"288.5\" y=\"-587.8\" font-family=\"Helvetica,sans-Serif\" font-size=\"14.00\">class = L</text>\r\n",
       "</g>\r\n",
       "<!-- 2&#45;&gt;4 -->\r\n",
       "<g id=\"edge4\" class=\"edge\"><title>2&#45;&gt;4</title>\r\n",
       "<path fill=\"none\" stroke=\"black\" d=\"M316.847,-698.907C316.918,-690.649 316.993,-681.864 317.066,-673.302\"/>\r\n",
       "<polygon fill=\"black\" stroke=\"black\" points=\"320.568,-673.05 317.154,-663.021 313.568,-672.99 320.568,-673.05\"/>\r\n",
       "</g>\r\n",
       "<!-- 5 -->\r\n",
       "<g id=\"node6\" class=\"node\"><title>5</title>\r\n",
       "<path fill=\"none\" stroke=\"black\" d=\"M228,-544C228,-544 139,-544 139,-544 133,-544 127,-538 127,-532 127,-532 127,-473 127,-473 127,-467 133,-461 139,-461 139,-461 228,-461 228,-461 234,-461 240,-467 240,-473 240,-473 240,-532 240,-532 240,-538 234,-544 228,-544\"/>\r\n",
       "<text text-anchor=\"start\" x=\"157\" y=\"-528.8\" font-family=\"Helvetica,sans-Serif\" font-size=\"14.00\">hiv ≤ 0.0</text>\r\n",
       "<text text-anchor=\"start\" x=\"154.5\" y=\"-513.8\" font-family=\"Helvetica,sans-Serif\" font-size=\"14.00\">gini = 0.5</text>\r\n",
       "<text text-anchor=\"start\" x=\"144\" y=\"-498.8\" font-family=\"Helvetica,sans-Serif\" font-size=\"14.00\">samples = 2</text>\r\n",
       "<text text-anchor=\"start\" x=\"135\" y=\"-483.8\" font-family=\"Helvetica,sans-Serif\" font-size=\"14.00\">value = [0, 1, 1]</text>\r\n",
       "<text text-anchor=\"start\" x=\"154.5\" y=\"-468.8\" font-family=\"Helvetica,sans-Serif\" font-size=\"14.00\">class = L</text>\r\n",
       "</g>\r\n",
       "<!-- 4&#45;&gt;5 -->\r\n",
       "<g id=\"edge5\" class=\"edge\"><title>4&#45;&gt;5</title>\r\n",
       "<path fill=\"none\" stroke=\"black\" d=\"M271.009,-579.907C260.2,-570.469 248.602,-560.343 237.5,-550.649\"/>\r\n",
       "<polygon fill=\"black\" stroke=\"black\" points=\"239.743,-547.961 229.908,-544.021 235.139,-553.234 239.743,-547.961\"/>\r\n",
       "</g>\r\n",
       "<!-- 8 -->\r\n",
       "<g id=\"node9\" class=\"node\"><title>8</title>\r\n",
       "<path fill=\"#39e581\" stroke=\"black\" d=\"M367,-536.5C367,-536.5 270,-536.5 270,-536.5 264,-536.5 258,-530.5 258,-524.5 258,-524.5 258,-480.5 258,-480.5 258,-474.5 264,-468.5 270,-468.5 270,-468.5 367,-468.5 367,-468.5 373,-468.5 379,-474.5 379,-480.5 379,-480.5 379,-524.5 379,-524.5 379,-530.5 373,-536.5 367,-536.5\"/>\r\n",
       "<text text-anchor=\"start\" x=\"289.5\" y=\"-521.3\" font-family=\"Helvetica,sans-Serif\" font-size=\"14.00\">gini = 0.0</text>\r\n",
       "<text text-anchor=\"start\" x=\"275\" y=\"-506.3\" font-family=\"Helvetica,sans-Serif\" font-size=\"14.00\">samples = 45</text>\r\n",
       "<text text-anchor=\"start\" x=\"266\" y=\"-491.3\" font-family=\"Helvetica,sans-Serif\" font-size=\"14.00\">value = [0, 45, 0]</text>\r\n",
       "<text text-anchor=\"start\" x=\"289.5\" y=\"-476.3\" font-family=\"Helvetica,sans-Serif\" font-size=\"14.00\">class = L</text>\r\n",
       "</g>\r\n",
       "<!-- 4&#45;&gt;8 -->\r\n",
       "<g id=\"edge8\" class=\"edge\"><title>4&#45;&gt;8</title>\r\n",
       "<path fill=\"none\" stroke=\"black\" d=\"M317.847,-579.907C317.938,-569.204 318.037,-557.615 318.13,-546.776\"/>\r\n",
       "<polygon fill=\"black\" stroke=\"black\" points=\"321.631,-546.697 318.217,-536.667 314.631,-546.637 321.631,-546.697\"/>\r\n",
       "</g>\r\n",
       "<!-- 6 -->\r\n",
       "<g id=\"node7\" class=\"node\"><title>6</title>\r\n",
       "<path fill=\"#39e581\" stroke=\"black\" d=\"M101,-417.5C101,-417.5 12,-417.5 12,-417.5 6,-417.5 0,-411.5 0,-405.5 0,-405.5 0,-361.5 0,-361.5 0,-355.5 6,-349.5 12,-349.5 12,-349.5 101,-349.5 101,-349.5 107,-349.5 113,-355.5 113,-361.5 113,-361.5 113,-405.5 113,-405.5 113,-411.5 107,-417.5 101,-417.5\"/>\r\n",
       "<text text-anchor=\"start\" x=\"27.5\" y=\"-402.3\" font-family=\"Helvetica,sans-Serif\" font-size=\"14.00\">gini = 0.0</text>\r\n",
       "<text text-anchor=\"start\" x=\"17\" y=\"-387.3\" font-family=\"Helvetica,sans-Serif\" font-size=\"14.00\">samples = 1</text>\r\n",
       "<text text-anchor=\"start\" x=\"8\" y=\"-372.3\" font-family=\"Helvetica,sans-Serif\" font-size=\"14.00\">value = [0, 1, 0]</text>\r\n",
       "<text text-anchor=\"start\" x=\"27.5\" y=\"-357.3\" font-family=\"Helvetica,sans-Serif\" font-size=\"14.00\">class = L</text>\r\n",
       "</g>\r\n",
       "<!-- 5&#45;&gt;6 -->\r\n",
       "<g id=\"edge6\" class=\"edge\"><title>5&#45;&gt;6</title>\r\n",
       "<path fill=\"none\" stroke=\"black\" d=\"M139.438,-460.907C126.622,-449.101 112.637,-436.217 99.864,-424.45\"/>\r\n",
       "<polygon fill=\"black\" stroke=\"black\" points=\"102.228,-421.868 92.5017,-417.667 97.485,-427.017 102.228,-421.868\"/>\r\n",
       "</g>\r\n",
       "<!-- 7 -->\r\n",
       "<g id=\"node8\" class=\"node\"><title>7</title>\r\n",
       "<path fill=\"#8139e5\" stroke=\"black\" d=\"M232,-417.5C232,-417.5 143,-417.5 143,-417.5 137,-417.5 131,-411.5 131,-405.5 131,-405.5 131,-361.5 131,-361.5 131,-355.5 137,-349.5 143,-349.5 143,-349.5 232,-349.5 232,-349.5 238,-349.5 244,-355.5 244,-361.5 244,-361.5 244,-405.5 244,-405.5 244,-411.5 238,-417.5 232,-417.5\"/>\r\n",
       "<text text-anchor=\"start\" x=\"158.5\" y=\"-402.3\" font-family=\"Helvetica,sans-Serif\" font-size=\"14.00\">gini = 0.0</text>\r\n",
       "<text text-anchor=\"start\" x=\"148\" y=\"-387.3\" font-family=\"Helvetica,sans-Serif\" font-size=\"14.00\">samples = 1</text>\r\n",
       "<text text-anchor=\"start\" x=\"139\" y=\"-372.3\" font-family=\"Helvetica,sans-Serif\" font-size=\"14.00\">value = [0, 0, 1]</text>\r\n",
       "<text text-anchor=\"start\" x=\"157\" y=\"-357.3\" font-family=\"Helvetica,sans-Serif\" font-size=\"14.00\">class = M</text>\r\n",
       "</g>\r\n",
       "<!-- 5&#45;&gt;7 -->\r\n",
       "<g id=\"edge7\" class=\"edge\"><title>5&#45;&gt;7</title>\r\n",
       "<path fill=\"none\" stroke=\"black\" d=\"M184.888,-460.907C185.254,-450.204 185.65,-438.615 186.02,-427.776\"/>\r\n",
       "<polygon fill=\"black\" stroke=\"black\" points=\"189.522,-427.781 186.366,-417.667 182.526,-427.541 189.522,-427.781\"/>\r\n",
       "</g>\r\n",
       "<!-- 11 -->\r\n",
       "<g id=\"node12\" class=\"node\"><title>11</title>\r\n",
       "<path fill=\"#8139e5\" fill-opacity=\"0.486275\" stroke=\"black\" d=\"M649,-782C649,-782 544,-782 544,-782 538,-782 532,-776 532,-770 532,-770 532,-711 532,-711 532,-705 538,-699 544,-699 544,-699 649,-699 649,-699 655,-699 661,-705 661,-711 661,-711 661,-770 661,-770 661,-776 655,-782 649,-782\"/>\r\n",
       "<text text-anchor=\"start\" x=\"540.5\" y=\"-766.8\" font-family=\"Helvetica,sans-Serif\" font-size=\"14.00\">sanitation ≤ 0.959</text>\r\n",
       "<text text-anchor=\"start\" x=\"559\" y=\"-751.8\" font-family=\"Helvetica,sans-Serif\" font-size=\"14.00\">gini = 0.492</text>\r\n",
       "<text text-anchor=\"start\" x=\"553\" y=\"-736.8\" font-family=\"Helvetica,sans-Serif\" font-size=\"14.00\">samples = 56</text>\r\n",
       "<text text-anchor=\"start\" x=\"540\" y=\"-721.8\" font-family=\"Helvetica,sans-Serif\" font-size=\"14.00\">value = [17, 3, 36]</text>\r\n",
       "<text text-anchor=\"start\" x=\"566\" y=\"-706.8\" font-family=\"Helvetica,sans-Serif\" font-size=\"14.00\">class = M</text>\r\n",
       "</g>\r\n",
       "<!-- 10&#45;&gt;11 -->\r\n",
       "<g id=\"edge11\" class=\"edge\"><title>10&#45;&gt;11</title>\r\n",
       "<path fill=\"none\" stroke=\"black\" d=\"M597.806,-817.907C597.663,-809.558 597.511,-800.671 597.364,-792.02\"/>\r\n",
       "<polygon fill=\"black\" stroke=\"black\" points=\"600.863,-791.959 597.193,-782.021 593.864,-792.079 600.863,-791.959\"/>\r\n",
       "</g>\r\n",
       "<!-- 38 -->\r\n",
       "<g id=\"node39\" class=\"node\"><title>38</title>\r\n",
       "<path fill=\"#e58139\" stroke=\"black\" d=\"M788,-774.5C788,-774.5 691,-774.5 691,-774.5 685,-774.5 679,-768.5 679,-762.5 679,-762.5 679,-718.5 679,-718.5 679,-712.5 685,-706.5 691,-706.5 691,-706.5 788,-706.5 788,-706.5 794,-706.5 800,-712.5 800,-718.5 800,-718.5 800,-762.5 800,-762.5 800,-768.5 794,-774.5 788,-774.5\"/>\r\n",
       "<text text-anchor=\"start\" x=\"710.5\" y=\"-759.3\" font-family=\"Helvetica,sans-Serif\" font-size=\"14.00\">gini = 0.0</text>\r\n",
       "<text text-anchor=\"start\" x=\"696\" y=\"-744.3\" font-family=\"Helvetica,sans-Serif\" font-size=\"14.00\">samples = 21</text>\r\n",
       "<text text-anchor=\"start\" x=\"687\" y=\"-729.3\" font-family=\"Helvetica,sans-Serif\" font-size=\"14.00\">value = [21, 0, 0]</text>\r\n",
       "<text text-anchor=\"start\" x=\"710\" y=\"-714.3\" font-family=\"Helvetica,sans-Serif\" font-size=\"14.00\">class = H</text>\r\n",
       "</g>\r\n",
       "<!-- 10&#45;&gt;38 -->\r\n",
       "<g id=\"edge38\" class=\"edge\"><title>10&#45;&gt;38</title>\r\n",
       "<path fill=\"none\" stroke=\"black\" d=\"M647.419,-817.907C661.781,-805.99 677.465,-792.976 691.753,-781.12\"/>\r\n",
       "<polygon fill=\"black\" stroke=\"black\" points=\"694.069,-783.746 699.53,-774.667 689.599,-778.359 694.069,-783.746\"/>\r\n",
       "</g>\r\n",
       "<!-- 12 -->\r\n",
       "<g id=\"node13\" class=\"node\"><title>12</title>\r\n",
       "<path fill=\"#8139e5\" fill-opacity=\"0.800000\" stroke=\"black\" d=\"M657.5,-663C657.5,-663 531.5,-663 531.5,-663 525.5,-663 519.5,-657 519.5,-651 519.5,-651 519.5,-592 519.5,-592 519.5,-586 525.5,-580 531.5,-580 531.5,-580 657.5,-580 657.5,-580 663.5,-580 669.5,-586 669.5,-592 669.5,-592 669.5,-651 669.5,-651 669.5,-657 663.5,-663 657.5,-663\"/>\r\n",
       "<text text-anchor=\"start\" x=\"527.5\" y=\"-647.8\" font-family=\"Helvetica,sans-Serif\" font-size=\"14.00\">childmortality ≤ 0.142</text>\r\n",
       "<text text-anchor=\"start\" x=\"557\" y=\"-632.8\" font-family=\"Helvetica,sans-Serif\" font-size=\"14.00\">gini = 0.314</text>\r\n",
       "<text text-anchor=\"start\" x=\"551\" y=\"-617.8\" font-family=\"Helvetica,sans-Serif\" font-size=\"14.00\">samples = 33</text>\r\n",
       "<text text-anchor=\"start\" x=\"542\" y=\"-602.8\" font-family=\"Helvetica,sans-Serif\" font-size=\"14.00\">value = [3, 3, 27]</text>\r\n",
       "<text text-anchor=\"start\" x=\"564\" y=\"-587.8\" font-family=\"Helvetica,sans-Serif\" font-size=\"14.00\">class = M</text>\r\n",
       "</g>\r\n",
       "<!-- 11&#45;&gt;12 -->\r\n",
       "<g id=\"edge12\" class=\"edge\"><title>11&#45;&gt;12</title>\r\n",
       "<path fill=\"none\" stroke=\"black\" d=\"M595.806,-698.907C595.663,-690.558 595.511,-681.671 595.364,-673.02\"/>\r\n",
       "<polygon fill=\"black\" stroke=\"black\" points=\"598.863,-672.959 595.193,-663.021 591.864,-673.079 598.863,-672.959\"/>\r\n",
       "</g>\r\n",
       "<!-- 27 -->\r\n",
       "<g id=\"node28\" class=\"node\"><title>27</title>\r\n",
       "<path fill=\"#e58139\" fill-opacity=\"0.356863\" stroke=\"black\" d=\"M975,-663C975,-663 878,-663 878,-663 872,-663 866,-657 866,-651 866,-651 866,-592 866,-592 866,-586 872,-580 878,-580 878,-580 975,-580 975,-580 981,-580 987,-586 987,-592 987,-592 987,-651 987,-651 987,-657 981,-663 975,-663\"/>\r\n",
       "<text text-anchor=\"start\" x=\"880\" y=\"-647.8\" font-family=\"Helvetica,sans-Serif\" font-size=\"14.00\">fertility ≤ 0.135</text>\r\n",
       "<text text-anchor=\"start\" x=\"889\" y=\"-632.8\" font-family=\"Helvetica,sans-Serif\" font-size=\"14.00\">gini = 0.476</text>\r\n",
       "<text text-anchor=\"start\" x=\"883\" y=\"-617.8\" font-family=\"Helvetica,sans-Serif\" font-size=\"14.00\">samples = 23</text>\r\n",
       "<text text-anchor=\"start\" x=\"874\" y=\"-602.8\" font-family=\"Helvetica,sans-Serif\" font-size=\"14.00\">value = [14, 0, 9]</text>\r\n",
       "<text text-anchor=\"start\" x=\"897\" y=\"-587.8\" font-family=\"Helvetica,sans-Serif\" font-size=\"14.00\">class = H</text>\r\n",
       "</g>\r\n",
       "<!-- 11&#45;&gt;27 -->\r\n",
       "<g id=\"edge27\" class=\"edge\"><title>11&#45;&gt;27</title>\r\n",
       "<path fill=\"none\" stroke=\"black\" d=\"M661.014,-702.754C663.857,-701.438 666.694,-700.179 669.5,-699 730.681,-673.283 803.422,-652.485 855.873,-639.102\"/>\r\n",
       "<polygon fill=\"black\" stroke=\"black\" points=\"856.914,-642.449 865.753,-636.608 855.201,-635.662 856.914,-642.449\"/>\r\n",
       "</g>\r\n",
       "<!-- 13 -->\r\n",
       "<g id=\"node14\" class=\"node\"><title>13</title>\r\n",
       "<path fill=\"#8139e5\" fill-opacity=\"0.956863\" stroke=\"black\" d=\"M507,-544C507,-544 410,-544 410,-544 404,-544 398,-538 398,-532 398,-532 398,-473 398,-473 398,-467 404,-461 410,-461 410,-461 507,-461 507,-461 513,-461 519,-467 519,-473 519,-473 519,-532 519,-532 519,-538 513,-544 507,-544\"/>\r\n",
       "<text text-anchor=\"start\" x=\"432\" y=\"-528.8\" font-family=\"Helvetica,sans-Serif\" font-size=\"14.00\">hiv ≤ 0.0</text>\r\n",
       "<text text-anchor=\"start\" x=\"425\" y=\"-513.8\" font-family=\"Helvetica,sans-Serif\" font-size=\"14.00\">gini = 0.08</text>\r\n",
       "<text text-anchor=\"start\" x=\"415\" y=\"-498.8\" font-family=\"Helvetica,sans-Serif\" font-size=\"14.00\">samples = 24</text>\r\n",
       "<text text-anchor=\"start\" x=\"406\" y=\"-483.8\" font-family=\"Helvetica,sans-Serif\" font-size=\"14.00\">value = [1, 0, 23]</text>\r\n",
       "<text text-anchor=\"start\" x=\"428\" y=\"-468.8\" font-family=\"Helvetica,sans-Serif\" font-size=\"14.00\">class = M</text>\r\n",
       "</g>\r\n",
       "<!-- 12&#45;&gt;13 -->\r\n",
       "<g id=\"edge13\" class=\"edge\"><title>12&#45;&gt;13</title>\r\n",
       "<path fill=\"none\" stroke=\"black\" d=\"M547.315,-579.907C536.345,-570.469 524.574,-560.343 513.306,-550.649\"/>\r\n",
       "<polygon fill=\"black\" stroke=\"black\" points=\"515.464,-547.889 505.601,-544.021 510.899,-553.196 515.464,-547.889\"/>\r\n",
       "</g>\r\n",
       "<!-- 18 -->\r\n",
       "<g id=\"node19\" class=\"node\"><title>18</title>\r\n",
       "<path fill=\"#8139e5\" fill-opacity=\"0.164706\" stroke=\"black\" d=\"M639,-544C639,-544 550,-544 550,-544 544,-544 538,-538 538,-532 538,-532 538,-473 538,-473 538,-467 544,-461 550,-461 550,-461 639,-461 639,-461 645,-461 651,-467 651,-473 651,-473 651,-532 651,-532 651,-538 645,-544 639,-544\"/>\r\n",
       "<text text-anchor=\"start\" x=\"551.5\" y=\"-528.8\" font-family=\"Helvetica,sans-Serif\" font-size=\"14.00\">water ≤ 0.817</text>\r\n",
       "<text text-anchor=\"start\" x=\"557\" y=\"-513.8\" font-family=\"Helvetica,sans-Serif\" font-size=\"14.00\">gini = 0.642</text>\r\n",
       "<text text-anchor=\"start\" x=\"555\" y=\"-498.8\" font-family=\"Helvetica,sans-Serif\" font-size=\"14.00\">samples = 9</text>\r\n",
       "<text text-anchor=\"start\" x=\"546\" y=\"-483.8\" font-family=\"Helvetica,sans-Serif\" font-size=\"14.00\">value = [2, 3, 4]</text>\r\n",
       "<text text-anchor=\"start\" x=\"564\" y=\"-468.8\" font-family=\"Helvetica,sans-Serif\" font-size=\"14.00\">class = M</text>\r\n",
       "</g>\r\n",
       "<!-- 12&#45;&gt;18 -->\r\n",
       "<g id=\"edge18\" class=\"edge\"><title>12&#45;&gt;18</title>\r\n",
       "<path fill=\"none\" stroke=\"black\" d=\"M594.5,-579.907C594.5,-571.649 594.5,-562.864 594.5,-554.302\"/>\r\n",
       "<polygon fill=\"black\" stroke=\"black\" points=\"598,-554.021 594.5,-544.021 591,-554.021 598,-554.021\"/>\r\n",
       "</g>\r\n",
       "<!-- 14 -->\r\n",
       "<g id=\"node15\" class=\"node\"><title>14</title>\r\n",
       "<path fill=\"none\" stroke=\"black\" d=\"M368,-425C368,-425 277,-425 277,-425 271,-425 265,-419 265,-413 265,-413 265,-354 265,-354 265,-348 271,-342 277,-342 277,-342 368,-342 368,-342 374,-342 380,-348 380,-354 380,-354 380,-413 380,-413 380,-419 374,-425 368,-425\"/>\r\n",
       "<text text-anchor=\"start\" x=\"273\" y=\"-409.8\" font-family=\"Helvetica,sans-Serif\" font-size=\"14.00\">income ≤ 0.153</text>\r\n",
       "<text text-anchor=\"start\" x=\"293.5\" y=\"-394.8\" font-family=\"Helvetica,sans-Serif\" font-size=\"14.00\">gini = 0.5</text>\r\n",
       "<text text-anchor=\"start\" x=\"283\" y=\"-379.8\" font-family=\"Helvetica,sans-Serif\" font-size=\"14.00\">samples = 2</text>\r\n",
       "<text text-anchor=\"start\" x=\"274\" y=\"-364.8\" font-family=\"Helvetica,sans-Serif\" font-size=\"14.00\">value = [1, 0, 1]</text>\r\n",
       "<text text-anchor=\"start\" x=\"293\" y=\"-349.8\" font-family=\"Helvetica,sans-Serif\" font-size=\"14.00\">class = H</text>\r\n",
       "</g>\r\n",
       "<!-- 13&#45;&gt;14 -->\r\n",
       "<g id=\"edge14\" class=\"edge\"><title>13&#45;&gt;14</title>\r\n",
       "<path fill=\"none\" stroke=\"black\" d=\"M411.315,-460.907C400.345,-451.469 388.574,-441.343 377.306,-431.649\"/>\r\n",
       "<polygon fill=\"black\" stroke=\"black\" points=\"379.464,-428.889 369.601,-425.021 374.899,-434.196 379.464,-428.889\"/>\r\n",
       "</g>\r\n",
       "<!-- 17 -->\r\n",
       "<g id=\"node18\" class=\"node\"><title>17</title>\r\n",
       "<path fill=\"#8139e5\" stroke=\"black\" d=\"M507,-417.5C507,-417.5 410,-417.5 410,-417.5 404,-417.5 398,-411.5 398,-405.5 398,-405.5 398,-361.5 398,-361.5 398,-355.5 404,-349.5 410,-349.5 410,-349.5 507,-349.5 507,-349.5 513,-349.5 519,-355.5 519,-361.5 519,-361.5 519,-405.5 519,-405.5 519,-411.5 513,-417.5 507,-417.5\"/>\r\n",
       "<text text-anchor=\"start\" x=\"429.5\" y=\"-402.3\" font-family=\"Helvetica,sans-Serif\" font-size=\"14.00\">gini = 0.0</text>\r\n",
       "<text text-anchor=\"start\" x=\"415\" y=\"-387.3\" font-family=\"Helvetica,sans-Serif\" font-size=\"14.00\">samples = 22</text>\r\n",
       "<text text-anchor=\"start\" x=\"406\" y=\"-372.3\" font-family=\"Helvetica,sans-Serif\" font-size=\"14.00\">value = [0, 0, 22]</text>\r\n",
       "<text text-anchor=\"start\" x=\"428\" y=\"-357.3\" font-family=\"Helvetica,sans-Serif\" font-size=\"14.00\">class = M</text>\r\n",
       "</g>\r\n",
       "<!-- 13&#45;&gt;17 -->\r\n",
       "<g id=\"edge17\" class=\"edge\"><title>13&#45;&gt;17</title>\r\n",
       "<path fill=\"none\" stroke=\"black\" d=\"M458.5,-460.907C458.5,-450.204 458.5,-438.615 458.5,-427.776\"/>\r\n",
       "<polygon fill=\"black\" stroke=\"black\" points=\"462,-427.667 458.5,-417.667 455,-427.667 462,-427.667\"/>\r\n",
       "</g>\r\n",
       "<!-- 15 -->\r\n",
       "<g id=\"node16\" class=\"node\"><title>15</title>\r\n",
       "<path fill=\"#e58139\" stroke=\"black\" d=\"M301,-298.5C301,-298.5 212,-298.5 212,-298.5 206,-298.5 200,-292.5 200,-286.5 200,-286.5 200,-242.5 200,-242.5 200,-236.5 206,-230.5 212,-230.5 212,-230.5 301,-230.5 301,-230.5 307,-230.5 313,-236.5 313,-242.5 313,-242.5 313,-286.5 313,-286.5 313,-292.5 307,-298.5 301,-298.5\"/>\r\n",
       "<text text-anchor=\"start\" x=\"227.5\" y=\"-283.3\" font-family=\"Helvetica,sans-Serif\" font-size=\"14.00\">gini = 0.0</text>\r\n",
       "<text text-anchor=\"start\" x=\"217\" y=\"-268.3\" font-family=\"Helvetica,sans-Serif\" font-size=\"14.00\">samples = 1</text>\r\n",
       "<text text-anchor=\"start\" x=\"208\" y=\"-253.3\" font-family=\"Helvetica,sans-Serif\" font-size=\"14.00\">value = [1, 0, 0]</text>\r\n",
       "<text text-anchor=\"start\" x=\"227\" y=\"-238.3\" font-family=\"Helvetica,sans-Serif\" font-size=\"14.00\">class = H</text>\r\n",
       "</g>\r\n",
       "<!-- 14&#45;&gt;15 -->\r\n",
       "<g id=\"edge15\" class=\"edge\"><title>14&#45;&gt;15</title>\r\n",
       "<path fill=\"none\" stroke=\"black\" d=\"M299.602,-341.907C293.315,-330.763 286.487,-318.658 280.158,-307.439\"/>\r\n",
       "<polygon fill=\"black\" stroke=\"black\" points=\"283.171,-305.657 275.21,-298.667 277.074,-309.096 283.171,-305.657\"/>\r\n",
       "</g>\r\n",
       "<!-- 16 -->\r\n",
       "<g id=\"node17\" class=\"node\"><title>16</title>\r\n",
       "<path fill=\"#8139e5\" stroke=\"black\" d=\"M432,-298.5C432,-298.5 343,-298.5 343,-298.5 337,-298.5 331,-292.5 331,-286.5 331,-286.5 331,-242.5 331,-242.5 331,-236.5 337,-230.5 343,-230.5 343,-230.5 432,-230.5 432,-230.5 438,-230.5 444,-236.5 444,-242.5 444,-242.5 444,-286.5 444,-286.5 444,-292.5 438,-298.5 432,-298.5\"/>\r\n",
       "<text text-anchor=\"start\" x=\"358.5\" y=\"-283.3\" font-family=\"Helvetica,sans-Serif\" font-size=\"14.00\">gini = 0.0</text>\r\n",
       "<text text-anchor=\"start\" x=\"348\" y=\"-268.3\" font-family=\"Helvetica,sans-Serif\" font-size=\"14.00\">samples = 1</text>\r\n",
       "<text text-anchor=\"start\" x=\"339\" y=\"-253.3\" font-family=\"Helvetica,sans-Serif\" font-size=\"14.00\">value = [0, 0, 1]</text>\r\n",
       "<text text-anchor=\"start\" x=\"357\" y=\"-238.3\" font-family=\"Helvetica,sans-Serif\" font-size=\"14.00\">class = M</text>\r\n",
       "</g>\r\n",
       "<!-- 14&#45;&gt;16 -->\r\n",
       "<g id=\"edge16\" class=\"edge\"><title>14&#45;&gt;16</title>\r\n",
       "<path fill=\"none\" stroke=\"black\" d=\"M345.051,-341.907C351.243,-330.763 357.968,-318.658 364.2,-307.439\"/>\r\n",
       "<polygon fill=\"black\" stroke=\"black\" points=\"367.277,-309.108 369.074,-298.667 361.158,-305.709 367.277,-309.108\"/>\r\n",
       "</g>\r\n",
       "<!-- 19 -->\r\n",
       "<g id=\"node20\" class=\"node\"><title>19</title>\r\n",
       "<path fill=\"#8139e5\" stroke=\"black\" d=\"M638,-417.5C638,-417.5 549,-417.5 549,-417.5 543,-417.5 537,-411.5 537,-405.5 537,-405.5 537,-361.5 537,-361.5 537,-355.5 543,-349.5 549,-349.5 549,-349.5 638,-349.5 638,-349.5 644,-349.5 650,-355.5 650,-361.5 650,-361.5 650,-405.5 650,-405.5 650,-411.5 644,-417.5 638,-417.5\"/>\r\n",
       "<text text-anchor=\"start\" x=\"564.5\" y=\"-402.3\" font-family=\"Helvetica,sans-Serif\" font-size=\"14.00\">gini = 0.0</text>\r\n",
       "<text text-anchor=\"start\" x=\"554\" y=\"-387.3\" font-family=\"Helvetica,sans-Serif\" font-size=\"14.00\">samples = 3</text>\r\n",
       "<text text-anchor=\"start\" x=\"545\" y=\"-372.3\" font-family=\"Helvetica,sans-Serif\" font-size=\"14.00\">value = [0, 0, 3]</text>\r\n",
       "<text text-anchor=\"start\" x=\"563\" y=\"-357.3\" font-family=\"Helvetica,sans-Serif\" font-size=\"14.00\">class = M</text>\r\n",
       "</g>\r\n",
       "<!-- 18&#45;&gt;19 -->\r\n",
       "<g id=\"edge19\" class=\"edge\"><title>18&#45;&gt;19</title>\r\n",
       "<path fill=\"none\" stroke=\"black\" d=\"M594.153,-460.907C594.062,-450.204 593.963,-438.615 593.87,-427.776\"/>\r\n",
       "<polygon fill=\"black\" stroke=\"black\" points=\"597.369,-427.637 593.783,-417.667 590.369,-427.697 597.369,-427.637\"/>\r\n",
       "</g>\r\n",
       "<!-- 20 -->\r\n",
       "<g id=\"node21\" class=\"node\"><title>20</title>\r\n",
       "<path fill=\"#39e581\" fill-opacity=\"0.250980\" stroke=\"black\" d=\"M771,-425C771,-425 680,-425 680,-425 674,-425 668,-419 668,-413 668,-413 668,-354 668,-354 668,-348 674,-342 680,-342 680,-342 771,-342 771,-342 777,-342 783,-348 783,-354 783,-354 783,-413 783,-413 783,-419 777,-425 771,-425\"/>\r\n",
       "<text text-anchor=\"start\" x=\"676\" y=\"-409.8\" font-family=\"Helvetica,sans-Serif\" font-size=\"14.00\">income ≤ 0.038</text>\r\n",
       "<text text-anchor=\"start\" x=\"688\" y=\"-394.8\" font-family=\"Helvetica,sans-Serif\" font-size=\"14.00\">gini = 0.611</text>\r\n",
       "<text text-anchor=\"start\" x=\"686\" y=\"-379.8\" font-family=\"Helvetica,sans-Serif\" font-size=\"14.00\">samples = 6</text>\r\n",
       "<text text-anchor=\"start\" x=\"677\" y=\"-364.8\" font-family=\"Helvetica,sans-Serif\" font-size=\"14.00\">value = [2, 3, 1]</text>\r\n",
       "<text text-anchor=\"start\" x=\"696.5\" y=\"-349.8\" font-family=\"Helvetica,sans-Serif\" font-size=\"14.00\">class = L</text>\r\n",
       "</g>\r\n",
       "<!-- 18&#45;&gt;20 -->\r\n",
       "<g id=\"edge20\" class=\"edge\"><title>18&#45;&gt;20</title>\r\n",
       "<path fill=\"none\" stroke=\"black\" d=\"M639.95,-460.907C650.416,-451.56 661.637,-441.538 672.396,-431.929\"/>\r\n",
       "<polygon fill=\"black\" stroke=\"black\" points=\"675.004,-434.293 680.131,-425.021 670.341,-429.072 675.004,-434.293\"/>\r\n",
       "</g>\r\n",
       "<!-- 21 -->\r\n",
       "<g id=\"node22\" class=\"node\"><title>21</title>\r\n",
       "<path fill=\"#8139e5\" stroke=\"black\" d=\"M642,-298.5C642,-298.5 553,-298.5 553,-298.5 547,-298.5 541,-292.5 541,-286.5 541,-286.5 541,-242.5 541,-242.5 541,-236.5 547,-230.5 553,-230.5 553,-230.5 642,-230.5 642,-230.5 648,-230.5 654,-236.5 654,-242.5 654,-242.5 654,-286.5 654,-286.5 654,-292.5 648,-298.5 642,-298.5\"/>\r\n",
       "<text text-anchor=\"start\" x=\"568.5\" y=\"-283.3\" font-family=\"Helvetica,sans-Serif\" font-size=\"14.00\">gini = 0.0</text>\r\n",
       "<text text-anchor=\"start\" x=\"558\" y=\"-268.3\" font-family=\"Helvetica,sans-Serif\" font-size=\"14.00\">samples = 1</text>\r\n",
       "<text text-anchor=\"start\" x=\"549\" y=\"-253.3\" font-family=\"Helvetica,sans-Serif\" font-size=\"14.00\">value = [0, 0, 1]</text>\r\n",
       "<text text-anchor=\"start\" x=\"567\" y=\"-238.3\" font-family=\"Helvetica,sans-Serif\" font-size=\"14.00\">class = M</text>\r\n",
       "</g>\r\n",
       "<!-- 20&#45;&gt;21 -->\r\n",
       "<g id=\"edge21\" class=\"edge\"><title>20&#45;&gt;21</title>\r\n",
       "<path fill=\"none\" stroke=\"black\" d=\"M681.091,-341.907C668.174,-330.101 654.079,-317.217 641.205,-305.45\"/>\r\n",
       "<polygon fill=\"black\" stroke=\"black\" points=\"643.528,-302.83 633.785,-298.667 638.805,-307.997 643.528,-302.83\"/>\r\n",
       "</g>\r\n",
       "<!-- 22 -->\r\n",
       "<g id=\"node23\" class=\"node\"><title>22</title>\r\n",
       "<path fill=\"#39e581\" fill-opacity=\"0.333333\" stroke=\"black\" d=\"M775,-306C775,-306 684,-306 684,-306 678,-306 672,-300 672,-294 672,-294 672,-235 672,-235 672,-229 678,-223 684,-223 684,-223 775,-223 775,-223 781,-223 787,-229 787,-235 787,-235 787,-294 787,-294 787,-300 781,-306 775,-306\"/>\r\n",
       "<text text-anchor=\"start\" x=\"680\" y=\"-290.8\" font-family=\"Helvetica,sans-Serif\" font-size=\"14.00\">income ≤ 0.077</text>\r\n",
       "<text text-anchor=\"start\" x=\"696\" y=\"-275.8\" font-family=\"Helvetica,sans-Serif\" font-size=\"14.00\">gini = 0.48</text>\r\n",
       "<text text-anchor=\"start\" x=\"690\" y=\"-260.8\" font-family=\"Helvetica,sans-Serif\" font-size=\"14.00\">samples = 5</text>\r\n",
       "<text text-anchor=\"start\" x=\"681\" y=\"-245.8\" font-family=\"Helvetica,sans-Serif\" font-size=\"14.00\">value = [2, 3, 0]</text>\r\n",
       "<text text-anchor=\"start\" x=\"700.5\" y=\"-230.8\" font-family=\"Helvetica,sans-Serif\" font-size=\"14.00\">class = L</text>\r\n",
       "</g>\r\n",
       "<!-- 20&#45;&gt;22 -->\r\n",
       "<g id=\"edge22\" class=\"edge\"><title>20&#45;&gt;22</title>\r\n",
       "<path fill=\"none\" stroke=\"black\" d=\"M726.888,-341.907C727.173,-333.558 727.477,-324.671 727.773,-316.02\"/>\r\n",
       "<polygon fill=\"black\" stroke=\"black\" points=\"731.271,-316.135 728.115,-306.021 724.275,-315.895 731.271,-316.135\"/>\r\n",
       "</g>\r\n",
       "<!-- 23 -->\r\n",
       "<g id=\"node24\" class=\"node\"><title>23</title>\r\n",
       "<path fill=\"#39e581\" stroke=\"black\" d=\"M704,-179.5C704,-179.5 615,-179.5 615,-179.5 609,-179.5 603,-173.5 603,-167.5 603,-167.5 603,-123.5 603,-123.5 603,-117.5 609,-111.5 615,-111.5 615,-111.5 704,-111.5 704,-111.5 710,-111.5 716,-117.5 716,-123.5 716,-123.5 716,-167.5 716,-167.5 716,-173.5 710,-179.5 704,-179.5\"/>\r\n",
       "<text text-anchor=\"start\" x=\"630.5\" y=\"-164.3\" font-family=\"Helvetica,sans-Serif\" font-size=\"14.00\">gini = 0.0</text>\r\n",
       "<text text-anchor=\"start\" x=\"620\" y=\"-149.3\" font-family=\"Helvetica,sans-Serif\" font-size=\"14.00\">samples = 2</text>\r\n",
       "<text text-anchor=\"start\" x=\"611\" y=\"-134.3\" font-family=\"Helvetica,sans-Serif\" font-size=\"14.00\">value = [0, 2, 0]</text>\r\n",
       "<text text-anchor=\"start\" x=\"630.5\" y=\"-119.3\" font-family=\"Helvetica,sans-Serif\" font-size=\"14.00\">class = L</text>\r\n",
       "</g>\r\n",
       "<!-- 22&#45;&gt;23 -->\r\n",
       "<g id=\"edge23\" class=\"edge\"><title>22&#45;&gt;23</title>\r\n",
       "<path fill=\"none\" stroke=\"black\" d=\"M705.214,-222.907C698.546,-211.763 691.304,-199.658 684.592,-188.439\"/>\r\n",
       "<polygon fill=\"black\" stroke=\"black\" points=\"687.481,-186.451 679.343,-179.667 681.474,-190.045 687.481,-186.451\"/>\r\n",
       "</g>\r\n",
       "<!-- 24 -->\r\n",
       "<g id=\"node25\" class=\"node\"><title>24</title>\r\n",
       "<path fill=\"#e58139\" fill-opacity=\"0.498039\" stroke=\"black\" d=\"M850.5,-187C850.5,-187 746.5,-187 746.5,-187 740.5,-187 734.5,-181 734.5,-175 734.5,-175 734.5,-116 734.5,-116 734.5,-110 740.5,-104 746.5,-104 746.5,-104 850.5,-104 850.5,-104 856.5,-104 862.5,-110 862.5,-116 862.5,-116 862.5,-175 862.5,-175 862.5,-181 856.5,-187 850.5,-187\"/>\r\n",
       "<text text-anchor=\"start\" x=\"742.5\" y=\"-171.8\" font-family=\"Helvetica,sans-Serif\" font-size=\"14.00\">sanitation ≤ 0.848</text>\r\n",
       "<text text-anchor=\"start\" x=\"761\" y=\"-156.8\" font-family=\"Helvetica,sans-Serif\" font-size=\"14.00\">gini = 0.444</text>\r\n",
       "<text text-anchor=\"start\" x=\"759\" y=\"-141.8\" font-family=\"Helvetica,sans-Serif\" font-size=\"14.00\">samples = 3</text>\r\n",
       "<text text-anchor=\"start\" x=\"750\" y=\"-126.8\" font-family=\"Helvetica,sans-Serif\" font-size=\"14.00\">value = [2, 1, 0]</text>\r\n",
       "<text text-anchor=\"start\" x=\"769\" y=\"-111.8\" font-family=\"Helvetica,sans-Serif\" font-size=\"14.00\">class = H</text>\r\n",
       "</g>\r\n",
       "<!-- 22&#45;&gt;24 -->\r\n",
       "<g id=\"edge24\" class=\"edge\"><title>22&#45;&gt;24</title>\r\n",
       "<path fill=\"none\" stroke=\"black\" d=\"M753.439,-222.907C758.577,-214.195 764.061,-204.897 769.371,-195.893\"/>\r\n",
       "<polygon fill=\"black\" stroke=\"black\" points=\"772.538,-197.412 774.603,-187.021 766.508,-193.857 772.538,-197.412\"/>\r\n",
       "</g>\r\n",
       "<!-- 25 -->\r\n",
       "<g id=\"node26\" class=\"node\"><title>25</title>\r\n",
       "<path fill=\"#39e581\" stroke=\"black\" d=\"M777,-68C777,-68 688,-68 688,-68 682,-68 676,-62 676,-56 676,-56 676,-12 676,-12 676,-6 682,-0 688,-0 688,-0 777,-0 777,-0 783,-0 789,-6 789,-12 789,-12 789,-56 789,-56 789,-62 783,-68 777,-68\"/>\r\n",
       "<text text-anchor=\"start\" x=\"703.5\" y=\"-52.8\" font-family=\"Helvetica,sans-Serif\" font-size=\"14.00\">gini = 0.0</text>\r\n",
       "<text text-anchor=\"start\" x=\"693\" y=\"-37.8\" font-family=\"Helvetica,sans-Serif\" font-size=\"14.00\">samples = 1</text>\r\n",
       "<text text-anchor=\"start\" x=\"684\" y=\"-22.8\" font-family=\"Helvetica,sans-Serif\" font-size=\"14.00\">value = [0, 1, 0]</text>\r\n",
       "<text text-anchor=\"start\" x=\"703.5\" y=\"-7.8\" font-family=\"Helvetica,sans-Serif\" font-size=\"14.00\">class = L</text>\r\n",
       "</g>\r\n",
       "<!-- 24&#45;&gt;25 -->\r\n",
       "<g id=\"edge25\" class=\"edge\"><title>24&#45;&gt;25</title>\r\n",
       "<path fill=\"none\" stroke=\"black\" d=\"M773.924,-103.726C768.646,-94.9703 763.061,-85.7032 757.758,-76.9051\"/>\r\n",
       "<polygon fill=\"black\" stroke=\"black\" points=\"760.731,-75.0574 752.571,-68.2996 754.736,-78.671 760.731,-75.0574\"/>\r\n",
       "</g>\r\n",
       "<!-- 26 -->\r\n",
       "<g id=\"node27\" class=\"node\"><title>26</title>\r\n",
       "<path fill=\"#e58139\" stroke=\"black\" d=\"M908,-68C908,-68 819,-68 819,-68 813,-68 807,-62 807,-56 807,-56 807,-12 807,-12 807,-6 813,-0 819,-0 819,-0 908,-0 908,-0 914,-0 920,-6 920,-12 920,-12 920,-56 920,-56 920,-62 914,-68 908,-68\"/>\r\n",
       "<text text-anchor=\"start\" x=\"834.5\" y=\"-52.8\" font-family=\"Helvetica,sans-Serif\" font-size=\"14.00\">gini = 0.0</text>\r\n",
       "<text text-anchor=\"start\" x=\"824\" y=\"-37.8\" font-family=\"Helvetica,sans-Serif\" font-size=\"14.00\">samples = 2</text>\r\n",
       "<text text-anchor=\"start\" x=\"815\" y=\"-22.8\" font-family=\"Helvetica,sans-Serif\" font-size=\"14.00\">value = [2, 0, 0]</text>\r\n",
       "<text text-anchor=\"start\" x=\"834\" y=\"-7.8\" font-family=\"Helvetica,sans-Serif\" font-size=\"14.00\">class = H</text>\r\n",
       "</g>\r\n",
       "<!-- 24&#45;&gt;26 -->\r\n",
       "<g id=\"edge26\" class=\"edge\"><title>24&#45;&gt;26</title>\r\n",
       "<path fill=\"none\" stroke=\"black\" d=\"M822.704,-103.726C827.901,-94.9703 833.402,-85.7032 838.625,-76.9051\"/>\r\n",
       "<polygon fill=\"black\" stroke=\"black\" points=\"841.638,-78.6853 843.733,-68.2996 835.619,-75.1121 841.638,-78.6853\"/>\r\n",
       "</g>\r\n",
       "<!-- 28 -->\r\n",
       "<g id=\"node29\" class=\"node\"><title>28</title>\r\n",
       "<path fill=\"#e58139\" fill-opacity=\"0.909804\" stroke=\"black\" d=\"M975,-544C975,-544 878,-544 878,-544 872,-544 866,-538 866,-532 866,-532 866,-473 866,-473 866,-467 872,-461 878,-461 878,-461 975,-461 975,-461 981,-461 987,-467 987,-473 987,-473 987,-532 987,-532 987,-538 981,-544 975,-544\"/>\r\n",
       "<text text-anchor=\"start\" x=\"878\" y=\"-528.8\" font-family=\"Helvetica,sans-Serif\" font-size=\"14.00\">literacy ≤ 0.985</text>\r\n",
       "<text text-anchor=\"start\" x=\"889\" y=\"-513.8\" font-family=\"Helvetica,sans-Serif\" font-size=\"14.00\">gini = 0.153</text>\r\n",
       "<text text-anchor=\"start\" x=\"883\" y=\"-498.8\" font-family=\"Helvetica,sans-Serif\" font-size=\"14.00\">samples = 12</text>\r\n",
       "<text text-anchor=\"start\" x=\"874\" y=\"-483.8\" font-family=\"Helvetica,sans-Serif\" font-size=\"14.00\">value = [11, 0, 1]</text>\r\n",
       "<text text-anchor=\"start\" x=\"897\" y=\"-468.8\" font-family=\"Helvetica,sans-Serif\" font-size=\"14.00\">class = H</text>\r\n",
       "</g>\r\n",
       "<!-- 27&#45;&gt;28 -->\r\n",
       "<g id=\"edge28\" class=\"edge\"><title>27&#45;&gt;28</title>\r\n",
       "<path fill=\"none\" stroke=\"black\" d=\"M926.5,-579.907C926.5,-571.649 926.5,-562.864 926.5,-554.302\"/>\r\n",
       "<polygon fill=\"black\" stroke=\"black\" points=\"930,-554.021 926.5,-544.021 923,-554.021 930,-554.021\"/>\r\n",
       "</g>\r\n",
       "<!-- 33 -->\r\n",
       "<g id=\"node34\" class=\"node\"><title>33</title>\r\n",
       "<path fill=\"#8139e5\" fill-opacity=\"0.623529\" stroke=\"black\" d=\"M1180,-544C1180,-544 1091,-544 1091,-544 1085,-544 1079,-538 1079,-532 1079,-532 1079,-473 1079,-473 1079,-467 1085,-461 1091,-461 1091,-461 1180,-461 1180,-461 1186,-461 1192,-467 1192,-473 1192,-473 1192,-532 1192,-532 1192,-538 1186,-544 1180,-544\"/>\r\n",
       "<text text-anchor=\"start\" x=\"1092.5\" y=\"-528.8\" font-family=\"Helvetica,sans-Serif\" font-size=\"14.00\">water ≤ 0.969</text>\r\n",
       "<text text-anchor=\"start\" x=\"1098\" y=\"-513.8\" font-family=\"Helvetica,sans-Serif\" font-size=\"14.00\">gini = 0.397</text>\r\n",
       "<text text-anchor=\"start\" x=\"1092\" y=\"-498.8\" font-family=\"Helvetica,sans-Serif\" font-size=\"14.00\">samples = 11</text>\r\n",
       "<text text-anchor=\"start\" x=\"1087\" y=\"-483.8\" font-family=\"Helvetica,sans-Serif\" font-size=\"14.00\">value = [3, 0, 8]</text>\r\n",
       "<text text-anchor=\"start\" x=\"1105\" y=\"-468.8\" font-family=\"Helvetica,sans-Serif\" font-size=\"14.00\">class = M</text>\r\n",
       "</g>\r\n",
       "<!-- 27&#45;&gt;33 -->\r\n",
       "<g id=\"edge33\" class=\"edge\"><title>27&#45;&gt;33</title>\r\n",
       "<path fill=\"none\" stroke=\"black\" d=\"M987.232,-586.502C1013.22,-571.953 1043.62,-554.938 1070.1,-540.113\"/>\r\n",
       "<polygon fill=\"black\" stroke=\"black\" points=\"1071.9,-543.115 1078.92,-535.176 1068.48,-537.007 1071.9,-543.115\"/>\r\n",
       "</g>\r\n",
       "<!-- 29 -->\r\n",
       "<g id=\"node30\" class=\"node\"><title>29</title>\r\n",
       "<path fill=\"#e58139\" stroke=\"black\" d=\"M902,-417.5C902,-417.5 813,-417.5 813,-417.5 807,-417.5 801,-411.5 801,-405.5 801,-405.5 801,-361.5 801,-361.5 801,-355.5 807,-349.5 813,-349.5 813,-349.5 902,-349.5 902,-349.5 908,-349.5 914,-355.5 914,-361.5 914,-361.5 914,-405.5 914,-405.5 914,-411.5 908,-417.5 902,-417.5\"/>\r\n",
       "<text text-anchor=\"start\" x=\"828.5\" y=\"-402.3\" font-family=\"Helvetica,sans-Serif\" font-size=\"14.00\">gini = 0.0</text>\r\n",
       "<text text-anchor=\"start\" x=\"818\" y=\"-387.3\" font-family=\"Helvetica,sans-Serif\" font-size=\"14.00\">samples = 9</text>\r\n",
       "<text text-anchor=\"start\" x=\"809\" y=\"-372.3\" font-family=\"Helvetica,sans-Serif\" font-size=\"14.00\">value = [9, 0, 0]</text>\r\n",
       "<text text-anchor=\"start\" x=\"828\" y=\"-357.3\" font-family=\"Helvetica,sans-Serif\" font-size=\"14.00\">class = H</text>\r\n",
       "</g>\r\n",
       "<!-- 28&#45;&gt;29 -->\r\n",
       "<g id=\"edge29\" class=\"edge\"><title>28&#45;&gt;29</title>\r\n",
       "<path fill=\"none\" stroke=\"black\" d=\"M902.561,-460.907C895.988,-449.763 888.85,-437.658 882.233,-426.439\"/>\r\n",
       "<polygon fill=\"black\" stroke=\"black\" points=\"885.155,-424.503 877.06,-417.667 879.125,-428.059 885.155,-424.503\"/>\r\n",
       "</g>\r\n",
       "<!-- 30 -->\r\n",
       "<g id=\"node31\" class=\"node\"><title>30</title>\r\n",
       "<path fill=\"#e58139\" fill-opacity=\"0.498039\" stroke=\"black\" d=\"M1048.5,-425C1048.5,-425 944.5,-425 944.5,-425 938.5,-425 932.5,-419 932.5,-413 932.5,-413 932.5,-354 932.5,-354 932.5,-348 938.5,-342 944.5,-342 944.5,-342 1048.5,-342 1048.5,-342 1054.5,-342 1060.5,-348 1060.5,-354 1060.5,-354 1060.5,-413 1060.5,-413 1060.5,-419 1054.5,-425 1048.5,-425\"/>\r\n",
       "<text text-anchor=\"start\" x=\"940.5\" y=\"-409.8\" font-family=\"Helvetica,sans-Serif\" font-size=\"14.00\">sanitation ≤ 0.984</text>\r\n",
       "<text text-anchor=\"start\" x=\"959\" y=\"-394.8\" font-family=\"Helvetica,sans-Serif\" font-size=\"14.00\">gini = 0.444</text>\r\n",
       "<text text-anchor=\"start\" x=\"957\" y=\"-379.8\" font-family=\"Helvetica,sans-Serif\" font-size=\"14.00\">samples = 3</text>\r\n",
       "<text text-anchor=\"start\" x=\"948\" y=\"-364.8\" font-family=\"Helvetica,sans-Serif\" font-size=\"14.00\">value = [2, 0, 1]</text>\r\n",
       "<text text-anchor=\"start\" x=\"967\" y=\"-349.8\" font-family=\"Helvetica,sans-Serif\" font-size=\"14.00\">class = H</text>\r\n",
       "</g>\r\n",
       "<!-- 28&#45;&gt;30 -->\r\n",
       "<g id=\"edge30\" class=\"edge\"><title>28&#45;&gt;30</title>\r\n",
       "<path fill=\"none\" stroke=\"black\" d=\"M950.786,-460.907C956.053,-452.105 961.678,-442.703 967.117,-433.612\"/>\r\n",
       "<polygon fill=\"black\" stroke=\"black\" points=\"970.126,-435.399 972.257,-425.021 964.119,-431.805 970.126,-435.399\"/>\r\n",
       "</g>\r\n",
       "<!-- 31 -->\r\n",
       "<g id=\"node32\" class=\"node\"><title>31</title>\r\n",
       "<path fill=\"#8139e5\" stroke=\"black\" d=\"M947,-298.5C947,-298.5 858,-298.5 858,-298.5 852,-298.5 846,-292.5 846,-286.5 846,-286.5 846,-242.5 846,-242.5 846,-236.5 852,-230.5 858,-230.5 858,-230.5 947,-230.5 947,-230.5 953,-230.5 959,-236.5 959,-242.5 959,-242.5 959,-286.5 959,-286.5 959,-292.5 953,-298.5 947,-298.5\"/>\r\n",
       "<text text-anchor=\"start\" x=\"873.5\" y=\"-283.3\" font-family=\"Helvetica,sans-Serif\" font-size=\"14.00\">gini = 0.0</text>\r\n",
       "<text text-anchor=\"start\" x=\"863\" y=\"-268.3\" font-family=\"Helvetica,sans-Serif\" font-size=\"14.00\">samples = 1</text>\r\n",
       "<text text-anchor=\"start\" x=\"854\" y=\"-253.3\" font-family=\"Helvetica,sans-Serif\" font-size=\"14.00\">value = [0, 0, 1]</text>\r\n",
       "<text text-anchor=\"start\" x=\"872\" y=\"-238.3\" font-family=\"Helvetica,sans-Serif\" font-size=\"14.00\">class = M</text>\r\n",
       "</g>\r\n",
       "<!-- 30&#45;&gt;31 -->\r\n",
       "<g id=\"edge31\" class=\"edge\"><title>30&#45;&gt;31</title>\r\n",
       "<path fill=\"none\" stroke=\"black\" d=\"M963.887,-341.907C954.756,-330.542 944.823,-318.178 935.66,-306.774\"/>\r\n",
       "<polygon fill=\"black\" stroke=\"black\" points=\"938.139,-304.271 929.147,-298.667 932.682,-308.655 938.139,-304.271\"/>\r\n",
       "</g>\r\n",
       "<!-- 32 -->\r\n",
       "<g id=\"node33\" class=\"node\"><title>32</title>\r\n",
       "<path fill=\"#e58139\" stroke=\"black\" d=\"M1078,-298.5C1078,-298.5 989,-298.5 989,-298.5 983,-298.5 977,-292.5 977,-286.5 977,-286.5 977,-242.5 977,-242.5 977,-236.5 983,-230.5 989,-230.5 989,-230.5 1078,-230.5 1078,-230.5 1084,-230.5 1090,-236.5 1090,-242.5 1090,-242.5 1090,-286.5 1090,-286.5 1090,-292.5 1084,-298.5 1078,-298.5\"/>\r\n",
       "<text text-anchor=\"start\" x=\"1004.5\" y=\"-283.3\" font-family=\"Helvetica,sans-Serif\" font-size=\"14.00\">gini = 0.0</text>\r\n",
       "<text text-anchor=\"start\" x=\"994\" y=\"-268.3\" font-family=\"Helvetica,sans-Serif\" font-size=\"14.00\">samples = 2</text>\r\n",
       "<text text-anchor=\"start\" x=\"985\" y=\"-253.3\" font-family=\"Helvetica,sans-Serif\" font-size=\"14.00\">value = [2, 0, 0]</text>\r\n",
       "<text text-anchor=\"start\" x=\"1004\" y=\"-238.3\" font-family=\"Helvetica,sans-Serif\" font-size=\"14.00\">class = H</text>\r\n",
       "</g>\r\n",
       "<!-- 30&#45;&gt;32 -->\r\n",
       "<g id=\"edge32\" class=\"edge\"><title>30&#45;&gt;32</title>\r\n",
       "<path fill=\"none\" stroke=\"black\" d=\"M1009.34,-341.907C1012.76,-331.094 1016.46,-319.376 1019.92,-308.441\"/>\r\n",
       "<polygon fill=\"black\" stroke=\"black\" points=\"1023.33,-309.257 1023.01,-298.667 1016.66,-307.146 1023.33,-309.257\"/>\r\n",
       "</g>\r\n",
       "<!-- 34 -->\r\n",
       "<g id=\"node35\" class=\"node\"><title>34</title>\r\n",
       "<path fill=\"#8139e5\" stroke=\"black\" d=\"M1180,-417.5C1180,-417.5 1091,-417.5 1091,-417.5 1085,-417.5 1079,-411.5 1079,-405.5 1079,-405.5 1079,-361.5 1079,-361.5 1079,-355.5 1085,-349.5 1091,-349.5 1091,-349.5 1180,-349.5 1180,-349.5 1186,-349.5 1192,-355.5 1192,-361.5 1192,-361.5 1192,-405.5 1192,-405.5 1192,-411.5 1186,-417.5 1180,-417.5\"/>\r\n",
       "<text text-anchor=\"start\" x=\"1106.5\" y=\"-402.3\" font-family=\"Helvetica,sans-Serif\" font-size=\"14.00\">gini = 0.0</text>\r\n",
       "<text text-anchor=\"start\" x=\"1096\" y=\"-387.3\" font-family=\"Helvetica,sans-Serif\" font-size=\"14.00\">samples = 5</text>\r\n",
       "<text text-anchor=\"start\" x=\"1087\" y=\"-372.3\" font-family=\"Helvetica,sans-Serif\" font-size=\"14.00\">value = [0, 0, 5]</text>\r\n",
       "<text text-anchor=\"start\" x=\"1105\" y=\"-357.3\" font-family=\"Helvetica,sans-Serif\" font-size=\"14.00\">class = M</text>\r\n",
       "</g>\r\n",
       "<!-- 33&#45;&gt;34 -->\r\n",
       "<g id=\"edge34\" class=\"edge\"><title>33&#45;&gt;34</title>\r\n",
       "<path fill=\"none\" stroke=\"black\" d=\"M1135.5,-460.907C1135.5,-450.204 1135.5,-438.615 1135.5,-427.776\"/>\r\n",
       "<polygon fill=\"black\" stroke=\"black\" points=\"1139,-427.667 1135.5,-417.667 1132,-427.667 1139,-427.667\"/>\r\n",
       "</g>\r\n",
       "<!-- 35 -->\r\n",
       "<g id=\"node36\" class=\"node\"><title>35</title>\r\n",
       "<path fill=\"none\" stroke=\"black\" d=\"M1315,-425C1315,-425 1222,-425 1222,-425 1216,-425 1210,-419 1210,-413 1210,-413 1210,-354 1210,-354 1210,-348 1216,-342 1222,-342 1222,-342 1315,-342 1315,-342 1321,-342 1327,-348 1327,-354 1327,-354 1327,-413 1327,-413 1327,-419 1321,-425 1315,-425\"/>\r\n",
       "<text text-anchor=\"start\" x=\"1218\" y=\"-409.8\" font-family=\"Helvetica,sans-Serif\" font-size=\"14.00\">population ≤ 0.0</text>\r\n",
       "<text text-anchor=\"start\" x=\"1239.5\" y=\"-394.8\" font-family=\"Helvetica,sans-Serif\" font-size=\"14.00\">gini = 0.5</text>\r\n",
       "<text text-anchor=\"start\" x=\"1229\" y=\"-379.8\" font-family=\"Helvetica,sans-Serif\" font-size=\"14.00\">samples = 6</text>\r\n",
       "<text text-anchor=\"start\" x=\"1220\" y=\"-364.8\" font-family=\"Helvetica,sans-Serif\" font-size=\"14.00\">value = [3, 0, 3]</text>\r\n",
       "<text text-anchor=\"start\" x=\"1239\" y=\"-349.8\" font-family=\"Helvetica,sans-Serif\" font-size=\"14.00\">class = H</text>\r\n",
       "</g>\r\n",
       "<!-- 33&#45;&gt;35 -->\r\n",
       "<g id=\"edge35\" class=\"edge\"><title>33&#45;&gt;35</title>\r\n",
       "<path fill=\"none\" stroke=\"black\" d=\"M1181.64,-460.907C1192.37,-451.469 1203.88,-441.343 1214.9,-431.649\"/>\r\n",
       "<polygon fill=\"black\" stroke=\"black\" points=\"1217.24,-434.254 1222.44,-425.021 1212.62,-428.998 1217.24,-434.254\"/>\r\n",
       "</g>\r\n",
       "<!-- 36 -->\r\n",
       "<g id=\"node37\" class=\"node\"><title>36</title>\r\n",
       "<path fill=\"#8139e5\" stroke=\"black\" d=\"M1247,-298.5C1247,-298.5 1158,-298.5 1158,-298.5 1152,-298.5 1146,-292.5 1146,-286.5 1146,-286.5 1146,-242.5 1146,-242.5 1146,-236.5 1152,-230.5 1158,-230.5 1158,-230.5 1247,-230.5 1247,-230.5 1253,-230.5 1259,-236.5 1259,-242.5 1259,-242.5 1259,-286.5 1259,-286.5 1259,-292.5 1253,-298.5 1247,-298.5\"/>\r\n",
       "<text text-anchor=\"start\" x=\"1173.5\" y=\"-283.3\" font-family=\"Helvetica,sans-Serif\" font-size=\"14.00\">gini = 0.0</text>\r\n",
       "<text text-anchor=\"start\" x=\"1163\" y=\"-268.3\" font-family=\"Helvetica,sans-Serif\" font-size=\"14.00\">samples = 3</text>\r\n",
       "<text text-anchor=\"start\" x=\"1154\" y=\"-253.3\" font-family=\"Helvetica,sans-Serif\" font-size=\"14.00\">value = [0, 0, 3]</text>\r\n",
       "<text text-anchor=\"start\" x=\"1172\" y=\"-238.3\" font-family=\"Helvetica,sans-Serif\" font-size=\"14.00\">class = M</text>\r\n",
       "</g>\r\n",
       "<!-- 35&#45;&gt;36 -->\r\n",
       "<g id=\"edge36\" class=\"edge\"><title>35&#45;&gt;36</title>\r\n",
       "<path fill=\"none\" stroke=\"black\" d=\"M1245.6,-341.907C1239.31,-330.763 1232.49,-318.658 1226.16,-307.439\"/>\r\n",
       "<polygon fill=\"black\" stroke=\"black\" points=\"1229.17,-305.657 1221.21,-298.667 1223.07,-309.096 1229.17,-305.657\"/>\r\n",
       "</g>\r\n",
       "<!-- 37 -->\r\n",
       "<g id=\"node38\" class=\"node\"><title>37</title>\r\n",
       "<path fill=\"#e58139\" stroke=\"black\" d=\"M1378,-298.5C1378,-298.5 1289,-298.5 1289,-298.5 1283,-298.5 1277,-292.5 1277,-286.5 1277,-286.5 1277,-242.5 1277,-242.5 1277,-236.5 1283,-230.5 1289,-230.5 1289,-230.5 1378,-230.5 1378,-230.5 1384,-230.5 1390,-236.5 1390,-242.5 1390,-242.5 1390,-286.5 1390,-286.5 1390,-292.5 1384,-298.5 1378,-298.5\"/>\r\n",
       "<text text-anchor=\"start\" x=\"1304.5\" y=\"-283.3\" font-family=\"Helvetica,sans-Serif\" font-size=\"14.00\">gini = 0.0</text>\r\n",
       "<text text-anchor=\"start\" x=\"1294\" y=\"-268.3\" font-family=\"Helvetica,sans-Serif\" font-size=\"14.00\">samples = 3</text>\r\n",
       "<text text-anchor=\"start\" x=\"1285\" y=\"-253.3\" font-family=\"Helvetica,sans-Serif\" font-size=\"14.00\">value = [3, 0, 0]</text>\r\n",
       "<text text-anchor=\"start\" x=\"1304\" y=\"-238.3\" font-family=\"Helvetica,sans-Serif\" font-size=\"14.00\">class = H</text>\r\n",
       "</g>\r\n",
       "<!-- 35&#45;&gt;37 -->\r\n",
       "<g id=\"edge37\" class=\"edge\"><title>35&#45;&gt;37</title>\r\n",
       "<path fill=\"none\" stroke=\"black\" d=\"M1291.05,-341.907C1297.24,-330.763 1303.97,-318.658 1310.2,-307.439\"/>\r\n",
       "<polygon fill=\"black\" stroke=\"black\" points=\"1313.28,-309.108 1315.07,-298.667 1307.16,-305.709 1313.28,-309.108\"/>\r\n",
       "</g>\r\n",
       "</g>\r\n",
       "</svg>\r\n"
      ],
      "text/plain": [
       "<graphviz.files.Source at 0x162620e7828>"
      ]
     },
     "execution_count": 31,
     "metadata": {},
     "output_type": "execute_result"
    }
   ],
   "source": [
    "viewDecisionTree(model_dt, X.columns)"
   ]
  },
  {
   "cell_type": "markdown",
   "metadata": {},
   "source": [
    "We can also display the feature importance."
   ]
  },
  {
   "cell_type": "code",
   "execution_count": 32,
   "metadata": {},
   "outputs": [
    {
     "data": {
      "image/png": "[encoded data removed]",
      "text/plain": [
       "<Figure size 576x288 with 1 Axes>"
      ]
     },
     "metadata": {
      "needs_background": "light"
     },
     "output_type": "display_data"
    }
   ],
   "source": [
    "decisionTreeSummary(model_dt, X.columns)"
   ]
  },
  {
   "cell_type": "markdown",
   "metadata": {},
   "source": [
    "For logistic regression we can examine the coefficients.  "
   ]
  },
  {
   "cell_type": "code",
   "execution_count": 33,
   "metadata": {},
   "outputs": [
    {
     "data": {
      "text/plain": [
       "array(['H', 'L', 'M'], dtype=object)"
      ]
     },
     "execution_count": 33,
     "metadata": {},
     "output_type": "execute_result"
    }
   ],
   "source": [
    "model_lr.classes_"
   ]
  },
  {
   "cell_type": "code",
   "execution_count": 34,
   "metadata": {},
   "outputs": [
    {
     "data": {
      "text/plain": [
       "array([[ 1.56109512,  1.43854829,  1.21032309,  0.71015589,  0.16496136,\n",
       "        -0.21151471,  0.38168319, -0.90984066, -0.7007721 , -0.06693589,\n",
       "         1.35850726, -0.26528544],\n",
       "       [-1.04391607, -0.40989364, -1.85609818, -1.39903662, -0.71497946,\n",
       "         0.2072231 , -0.15851575,  1.53414928,  1.15354453,  0.24971128,\n",
       "        -0.74221789,  0.09642796],\n",
       "       [-0.51717906, -1.02865465,  0.64577509,  0.68888074,  0.5500181 ,\n",
       "         0.00429161, -0.22316744, -0.62430862, -0.45277243, -0.18277539,\n",
       "        -0.61628937,  0.16885748]])"
      ]
     },
     "execution_count": 34,
     "metadata": {},
     "output_type": "execute_result"
    }
   ],
   "source": [
    "model_lr.coef_"
   ]
  },
  {
   "cell_type": "markdown",
   "metadata": {},
   "source": [
    "And we can plot them:"
   ]
  },
  {
   "cell_type": "code",
   "execution_count": 35,
   "metadata": {},
   "outputs": [
    {
     "data": {
      "image/png": "[encoded data removed]",
      "text/plain": [
       "<Figure size 576x288 with 1 Axes>"
      ]
     },
     "metadata": {
      "needs_background": "light"
     },
     "output_type": "display_data"
    },
    {
     "data": {
      "image/png": "[encoded data removed]",
      "text/plain": [
       "<Figure size 576x288 with 1 Axes>"
      ]
     },
     "metadata": {
      "needs_background": "light"
     },
     "output_type": "display_data"
    },
    {
     "data": {
      "image/png": "[encoded data removed]",
      "text/plain": [
       "<Figure size 576x288 with 1 Axes>"
      ]
     },
     "metadata": {
      "needs_background": "light"
     },
     "output_type": "display_data"
    }
   ],
   "source": [
    "logisticRegressionSummary(model_lr, X.columns)"
   ]
  },
  {
   "cell_type": "code",
   "execution_count": null,
   "metadata": {},
   "outputs": [],
   "source": []
  }
 ],
 "metadata": {
  "kernelspec": {
   "display_name": "Python 3",
   "language": "python",
   "name": "python3"
  },
  "language_info": {
   "codemirror_mode": {
    "name": "ipython",
    "version": 3
   },
   "file_extension": ".py",
   "mimetype": "text/x-python",
   "name": "python",
   "nbconvert_exporter": "python",
   "pygments_lexer": "ipython3",
   "version": "3.7.3"
  }
 },
 "nbformat": 4,
 "nbformat_minor": 2
}
